{
 "cells": [
  {
   "cell_type": "code",
   "execution_count": 2,
   "id": "239a3e7d-196d-43f0-a2b2-c84ee88b95ca",
   "metadata": {},
   "outputs": [],
   "source": [
    "import mediapipe as mp\n",
    "import cv2\n",
    "import numpy as np\n",
    "import uuid\n",
    "import os\n",
    "import json"
   ]
  },
  {
   "cell_type": "code",
   "execution_count": 3,
   "id": "a51c0734-095d-4e3d-b08d-40018cf0ad78",
   "metadata": {},
   "outputs": [],
   "source": [
    "mp_drawing = mp.solutions.drawing_utils\n",
    "mp_hands = mp.solutions.hands"
   ]
  },
  {
   "cell_type": "code",
   "execution_count": 4,
   "id": "6452c9ed-bd21-4bf7-a2e7-2e4330f15a49",
   "metadata": {},
   "outputs": [],
   "source": [
    "#variables for recording video\n",
    "recording = False\n",
    "out = None\n",
    "all_landmarks = []"
   ]
  },
  {
   "cell_type": "code",
   "execution_count": 7,
   "id": "6d24335c-f206-4b6e-b7c5-72d0f237289c",
   "metadata": {},
   "outputs": [
    {
     "name": "stdout",
     "output_type": "stream",
     "text": [
      "Recording started: 269b5970-eaf9-4697-99fa-1e2d346151cb.mp4\n"
     ]
    },
    {
     "ename": "NameError",
     "evalue": "name 'all_landmarks' is not defined",
     "output_type": "error",
     "traceback": [
      "\u001b[1;31m---------------------------------------------------------------------------\u001b[0m",
      "\u001b[1;31mNameError\u001b[0m                                 Traceback (most recent call last)",
      "Cell \u001b[1;32mIn[7], line 36\u001b[0m\n\u001b[0;32m     33\u001b[0m             landmarks_3d\u001b[38;5;241m.\u001b[39mappend((x, y, z))\n\u001b[0;32m     35\u001b[0m         \u001b[38;5;28;01mif\u001b[39;00m recording \u001b[38;5;129;01mand\u001b[39;00m landmarks_3d:\n\u001b[1;32m---> 36\u001b[0m             \u001b[43mall_landmarks\u001b[49m\u001b[38;5;241m.\u001b[39mappend(landmarks_3d)  \u001b[38;5;66;03m# Append current frame landmarks\u001b[39;00m\n\u001b[0;32m     38\u001b[0m cv2\u001b[38;5;241m.\u001b[39mimshow(\u001b[38;5;124m'\u001b[39m\u001b[38;5;124mHand Tracking\u001b[39m\u001b[38;5;124m'\u001b[39m, blank_frame) \u001b[38;5;66;03m#use image instead of blank_frame to save actual video\u001b[39;00m\n\u001b[0;32m     40\u001b[0m key \u001b[38;5;241m=\u001b[39m cv2\u001b[38;5;241m.\u001b[39mwaitKey(\u001b[38;5;241m1\u001b[39m) \u001b[38;5;241m&\u001b[39m \u001b[38;5;241m0xFF\u001b[39m\n",
      "\u001b[1;31mNameError\u001b[0m: name 'all_landmarks' is not defined"
     ]
    }
   ],
   "source": [
    "#setting-up webcam and mediapipe overlay\n",
    "cap = cv2.VideoCapture(0)\n",
    "\n",
    "with mp_hands.Hands(min_detection_confidence=0.8, min_tracking_confidence=0.5,max_num_hands=1) as hands:\n",
    "    while cap.isOpened():\n",
    "        ret, frame = cap.read()\n",
    "        \n",
    "        image = cv2.cvtColor(frame, cv2.COLOR_BGR2RGB)  #cv2 reads BGR format, mediapipe uses RGB format, so convert\n",
    "        image.flags.writeable =False\n",
    "\n",
    "        frame_width, frame_height = frame.shape[1], frame.shape[0]\n",
    "        landmarks_3d = [] #to store the xyz coordinates of each joint\n",
    "        #mediapipe processing the image\n",
    "        results = hands.process(image)\n",
    "\n",
    "        # Create a blank frame with the same dimensions as the video frame\n",
    "        blank_frame = np.zeros_like(frame)\n",
    "        \n",
    "        image.flags.writeable=True\n",
    "        image = cv2.cvtColor(image, cv2.COLOR_RGB2BGR)\n",
    "\n",
    "        if results.multi_hand_landmarks: #gives the coordinates of hand if a hand is detected\n",
    "            for num, hand in enumerate(results.multi_hand_landmarks):\n",
    "                mp_drawing.draw_landmarks(blank_frame, hand, mp_hands.HAND_CONNECTIONS,  #use image instead of blank_frame to save actual video\n",
    "                                         mp_drawing.DrawingSpec(color=(255, 0, 21), thickness=2, circle_radius=2), #for joints and dots\n",
    "                                         mp_drawing.DrawingSpec(color=(16, 255, 0), thickness=2, circle_radius=2)) #for connections and lines\n",
    "                \n",
    "                #this is to store the x,y,z co-ordinates\n",
    "                for lm in hand.landmark:\n",
    "                    x = int(lm.x * frame_width)\n",
    "                    y = int(lm.y * frame_height)\n",
    "                    z = lm.z  # Depth can be scaled if needed\n",
    "                    landmarks_3d.append((x, y, z))\n",
    "\n",
    "                if recording and landmarks_3d:\n",
    "                    all_landmarks.append(landmarks_3d)  # Append current frame landmarks\n",
    "                    \n",
    "        cv2.imshow('Hand Tracking', blank_frame) #use image instead of blank_frame to save actual video\n",
    "\n",
    "        key = cv2.waitKey(1) & 0xFF\n",
    "\n",
    "        if key == ord('r'):  # Toggle recording on 'r' key press\n",
    "            if not recording:\n",
    "                # Start recording\n",
    "                recording = True\n",
    "                filename = f\"{uuid.uuid4()}.mp4\"\n",
    "                frame_width = int(cap.get(cv2.CAP_PROP_FRAME_WIDTH))\n",
    "                frame_height = int(cap.get(cv2.CAP_PROP_FRAME_HEIGHT))\n",
    "                fps = int(cap.get(cv2.CAP_PROP_FPS)) or 30\n",
    "                fourcc = cv2.VideoWriter_fourcc(*'mp4v')\n",
    "                out = cv2.VideoWriter(os.path.join(\"mediapipe videos\",filename), fourcc, fps, (frame_width, frame_height))\n",
    "                print(f\"Recording started: {filename}\")\n",
    "            else:\n",
    "                # Stop recording\n",
    "                recording = False\n",
    "                datafile = filename.replace(\".mp4\", \".csv\")\n",
    "                with open(os.path.join(\"coordinates data\", datafile), mode='w', newline='') as f:\n",
    "                    csv_writer = csv.writer(f)\n",
    "                    header = [f'joint_{i}_{axis}' for i in range(21) for axis in ['x', 'y', 'z']]\n",
    "                    csv_writer.writerow(header)  # Write CSV header\n",
    "                    for frame_landmarks in all_landmarks:\n",
    "                        row = [value for joint in frame_landmarks for value in joint]\n",
    "                        csv_writer.writerow(row)\n",
    "                        \n",
    "                out.release()\n",
    "                out = None\n",
    "                print(\"Recording stopped\")\n",
    "\n",
    "        if recording and out is not None:\n",
    "            out.write(blank_frame) #use image instead of blank_frame to save actual video\n",
    "        if key == ord('q'):\n",
    "             if recording:\n",
    "                out.release() #to ensure video is saved properly\n",
    "             break\n",
    "\n",
    "cap.release()\n",
    "if out is not None:\n",
    "    out.release()\n",
    "cv2.destroyAllWindows()"
   ]
  },
  {
   "cell_type": "code",
   "execution_count": 9,
   "id": "b80088e8-eda9-43da-9da4-6667c8ffc870",
   "metadata": {},
   "outputs": [
    {
     "data": {
      "text/plain": [
       "\u001b[1;31mType:\u001b[0m        VideoCapture\n",
       "\u001b[1;31mString form:\u001b[0m < cv2.VideoCapture 000001F1157C3F50>\n",
       "\u001b[1;31mFile:\u001b[0m        c:\\users\\ravik\\anaconda3\\envs\\mpipeenv\\lib\\site-packages\\cv2\\__init__.py\n",
       "\u001b[1;31mDocstring:\u001b[0m   <no docstring>"
      ]
     },
     "metadata": {},
     "output_type": "display_data"
    }
   ],
   "source": [
    "cap??"
   ]
  },
  {
   "cell_type": "code",
   "execution_count": null,
   "id": "cabbad08-8653-4e86-9887-5bff827f5e66",
   "metadata": {},
   "outputs": [],
   "source": []
  },
  {
   "cell_type": "code",
   "execution_count": null,
   "id": "fdcb9144-5163-4c9e-a490-dade686ee40d",
   "metadata": {},
   "outputs": [],
   "source": []
  },
  {
   "cell_type": "code",
   "execution_count": null,
   "id": "07a4c878-b101-4332-87c0-0f3c2f60bb35",
   "metadata": {},
   "outputs": [],
   "source": []
  }
 ],
 "metadata": {
  "kernelspec": {
   "display_name": "Python 3 (ipykernel)",
   "language": "python",
   "name": "python3"
  },
  "language_info": {
   "codemirror_mode": {
    "name": "ipython",
    "version": 3
   },
   "file_extension": ".py",
   "mimetype": "text/x-python",
   "name": "python",
   "nbconvert_exporter": "python",
   "pygments_lexer": "ipython3",
   "version": "3.9.20"
  }
 },
 "nbformat": 4,
 "nbformat_minor": 5
}
