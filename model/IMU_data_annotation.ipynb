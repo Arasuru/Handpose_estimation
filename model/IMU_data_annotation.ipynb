{
 "cells": [
  {
   "cell_type": "code",
   "execution_count": 1,
   "id": "02fecb99-31d3-4955-ab19-e46b023b067d",
   "metadata": {},
   "outputs": [],
   "source": [
    "import pandas as pd\n",
    "import os"
   ]
  },
  {
   "cell_type": "code",
   "execution_count": 2,
   "id": "647698f4-dbf2-48e3-9b9b-f708b71bbc50",
   "metadata": {},
   "outputs": [
    {
     "name": "stdout",
     "output_type": "stream",
     "text": [
      "['participant_01.csv', 'participant_02.csv', 'participant_03.csv', 'participant_04.csv', 'participant_05.csv', 'participant_06.csv', 'participant_07.csv', 'participant_08.csv', 'participant_09.csv', 'participant_10.csv', 'participant_11.csv', 'participant_12.csv', 'participant_13.csv', 'participant_14.csv']\n"
     ]
    }
   ],
   "source": [
    "data_dir = \"./processed/imu/\"\n",
    "print(os.listdir(data_dir))"
   ]
  },
  {
   "cell_type": "markdown",
   "id": "e3489cc2-bfc8-4ad8-baf1-46c8727bd34b",
   "metadata": {},
   "source": [
    "# **Data Preparation**"
   ]
  },
  {
   "cell_type": "code",
   "execution_count": 27,
   "id": "bd701784-eb71-4217-b911-aed47f669edf",
   "metadata": {},
   "outputs": [
    {
     "name": "stdout",
     "output_type": "stream",
     "text": [
      "participant_14.csv\n",
      "   Timestamp   Sensor         QuatI     QuatJ     QuatK       QuatSum\n",
      "0      0.000        0 -4.329637e-17 -0.707107  0.707107 -4.329637e-17\n",
      "1      0.001        1 -5.000000e-01 -0.500000  0.500000 -5.000000e-01\n",
      "2      0.001        2 -5.000000e-01 -0.500000  0.500000 -5.000000e-01\n",
      "3      0.001        3 -5.000000e-01 -0.500000  0.500000 -5.000000e-01\n",
      "4      0.001        4 -5.000000e-01 -0.500000  0.500000 -5.000000e-01\n",
      "5      0.002        5 -5.000000e-01 -0.500000  0.500000 -5.000000e-01\n",
      "6      0.034        0 -4.329637e-17 -0.707107  0.707107 -4.329637e-17\n",
      "7      0.034        1 -5.000000e-01 -0.500000  0.500000 -5.000000e-01\n",
      "8      0.035        2 -5.000000e-01 -0.500000  0.500000 -5.000000e-01\n",
      "9      0.035        3 -5.000000e-01 -0.500000  0.500000 -5.000000e-01\n"
     ]
    }
   ],
   "source": [
    "participant = 14\n",
    "df = pd.read_csv(data_dir+ os.listdir(data_dir)[participant-1])\n",
    "print(os.listdir(data_dir)[participant-1])\n",
    "print(df.head(10))"
   ]
  },
  {
   "cell_type": "code",
   "execution_count": null,
   "id": "6fce9714-20e5-4ae7-89d9-51394f15a4c6",
   "metadata": {},
   "outputs": [],
   "source": [
    "#Extracting Sensor 0 timestamps\n",
    "sensor_0_rows = df[df[' Sensor'] == 0].reset_index(drop=True)\n",
    "\n",
    "#Iterate over Sensor 0 rows and collect the next five sensor readings\n",
    "aligned_data = []\n",
    "\n",
    "for idx, row in sensor_0_rows.iterrows():\n",
    "    timestamp = row['Timestamp']\n",
    "    \n",
    "    #Collect the next five sensors(assuming they appear sequentially)\n",
    "    sensor_group = df[df['Timestamp'] > timestamp].head(5).reset_index(drop=True)\n",
    "    \n",
    "    if len(sensor_group) == 5:  #Ensure all sensors exist before aligning\n",
    "        aligned_row = {\n",
    "            'Timestamp': timestamp,  #Preserve Sensor 0 timestamp\n",
    "            'QuatI_0': row['QuatI'], 'QuatJ_0': row['QuatJ'], 'QuatK_0': row['QuatK'], 'QuatSum_0': row['QuatSum']\n",
    "        }\n",
    "        \n",
    "        for i in range(5):  #Assign sensors 1 to 5 in the same row\n",
    "            aligned_row.update({\n",
    "                f'QuatI_{i+1}': sensor_group.loc[i, 'QuatI'],\n",
    "                f'QuatJ_{i+1}': sensor_group.loc[i, 'QuatJ'],\n",
    "                f'QuatK_{i+1}': sensor_group.loc[i, 'QuatK'],\n",
    "                f'QuatSum_{i+1}': sensor_group.loc[i, 'QuatSum']\n",
    "            })\n",
    "        \n",
    "        aligned_data.append(aligned_row)\n",
    "\n",
    "#Convert aligned data into a new DataFrame\n",
    "aligned_df = pd.DataFrame(aligned_data)\n",
    "\n",
    "# Display the final structured dataframe\n",
    "aligned_df.head(10)"
   ]
  },
  {
   "cell_type": "markdown",
   "id": "8878cce2-35dd-4a4b-bbf0-78e366115de3",
   "metadata": {},
   "source": [
    "## **Data Augmentation**"
   ]
  },
  {
   "cell_type": "code",
   "execution_count": null,
   "id": "1bc86b3e-9671-4621-8a89-561d6a5c1b8a",
   "metadata": {},
   "outputs": [],
   "source": []
  },
  {
   "cell_type": "markdown",
   "id": "b3e243b5-b087-499b-a83f-1f0ed3f1e100",
   "metadata": {},
   "source": [
    "## **Ensuring Data Integrity**"
   ]
  },
  {
   "cell_type": "code",
   "execution_count": 21,
   "id": "7ecfaac9-aae3-4a99-ae16-ba53d26103ec",
   "metadata": {},
   "outputs": [
    {
     "name": "stdout",
     "output_type": "stream",
     "text": [
      "Quaternion norms:\n",
      "        Quaternion_Norm_0  Quaternion_Norm_1  Quaternion_Norm_2  \\\n",
      "count             7977.0             7977.0             7977.0   \n",
      "mean                 1.0                1.0                1.0   \n",
      "std                  0.0                0.0                0.0   \n",
      "min                  1.0                1.0                1.0   \n",
      "25%                  1.0                1.0                1.0   \n",
      "50%                  1.0                1.0                1.0   \n",
      "75%                  1.0                1.0                1.0   \n",
      "max                  1.0                1.0                1.0   \n",
      "\n",
      "       Quaternion_Norm_3  Quaternion_Norm_4  Quaternion_Norm_5  \n",
      "count             7977.0             7977.0             7977.0  \n",
      "mean                 1.0                1.0                1.0  \n",
      "std                  0.0                0.0                0.0  \n",
      "min                  1.0                1.0                1.0  \n",
      "25%                  1.0                1.0                1.0  \n",
      "50%                  1.0                1.0                1.0  \n",
      "75%                  1.0                1.0                1.0  \n",
      "max                  1.0                1.0                1.0  \n"
     ]
    }
   ],
   "source": [
    "dummy = pd.DataFrame()\n",
    "for i in range(6):  # Check for all six sensors\n",
    "    dummy[f'Quaternion_Norm_{i}'] = (\n",
    "        aligned_df[f'QuatI_{i}']**2 +\n",
    "        aligned_df[f'QuatJ_{i}']**2 +\n",
    "        aligned_df[f'QuatK_{i}']**2 +\n",
    "        aligned_df[f'QuatSum_{i}']**2\n",
    "    ) ** 0.5\n",
    "\n",
    "print(\"Quaternion norms:\\n\", dummy[[f'Quaternion_Norm_{i}' for i in range(6)]].describe())"
   ]
  },
  {
   "cell_type": "code",
   "execution_count": 22,
   "id": "5a8462f9-1840-4e96-850e-8338b8094c42",
   "metadata": {},
   "outputs": [
    {
     "name": "stdout",
     "output_type": "stream",
     "text": [
      "Sensor order is correctly preserved.\n"
     ]
    }
   ],
   "source": [
    "expected_sensors = ['QuatI_0', 'QuatI_1', 'QuatI_2', 'QuatI_3', 'QuatI_4', 'QuatI_5']\n",
    "missing_sensors = [sensor for sensor in expected_sensors if sensor not in aligned_df.columns]\n",
    "\n",
    "if missing_sensors:\n",
    "    print(f\"Warning! Missing sensor columns: {missing_sensors}\")\n",
    "else:\n",
    "    print(\"Sensor order is correctly preserved.\")"
   ]
  },
  {
   "cell_type": "code",
   "execution_count": 23,
   "id": "c7cad181-b93f-444d-8e44-a6b6c1993930",
   "metadata": {},
   "outputs": [
    {
     "name": "stdout",
     "output_type": "stream",
     "text": [
      "Missing Values Per Column:\n",
      " Timestamp    0\n",
      "QuatI_0      0\n",
      "QuatJ_0      0\n",
      "QuatK_0      0\n",
      "QuatSum_0    0\n",
      "QuatI_1      0\n",
      "QuatJ_1      0\n",
      "QuatK_1      0\n",
      "QuatSum_1    0\n",
      "QuatI_2      0\n",
      "QuatJ_2      0\n",
      "QuatK_2      0\n",
      "QuatSum_2    0\n",
      "QuatI_3      0\n",
      "QuatJ_3      0\n",
      "QuatK_3      0\n",
      "QuatSum_3    0\n",
      "QuatI_4      0\n",
      "QuatJ_4      0\n",
      "QuatK_4      0\n",
      "QuatSum_4    0\n",
      "QuatI_5      0\n",
      "QuatJ_5      0\n",
      "QuatK_5      0\n",
      "QuatSum_5    0\n",
      "dtype: int64\n"
     ]
    }
   ],
   "source": [
    "missing_values = aligned_df.isnull().sum()\n",
    "print(\"Missing Values Per Column:\\n\", missing_values)"
   ]
  },
  {
   "cell_type": "markdown",
   "id": "ccf9555f-71cc-4034-acd4-9b26e1f01fb2",
   "metadata": {},
   "source": [
    "### **Annotating data**"
   ]
  },
  {
   "cell_type": "code",
   "execution_count": 24,
   "id": "297dd650-fef3-4ffa-8b6c-36bab93e5a7b",
   "metadata": {},
   "outputs": [
    {
     "data": {
      "text/plain": [
       "['participant_01.csv',\n",
       " 'participant_02.csv',\n",
       " 'participant_03.csv',\n",
       " 'participant_04.csv',\n",
       " 'participant_05.csv',\n",
       " 'participant_06.csv',\n",
       " 'participant_07.csv',\n",
       " 'participant_08.csv',\n",
       " 'participant_09.csv',\n",
       " 'participant_10.csv',\n",
       " 'participant_11.csv',\n",
       " 'participant_12.csv',\n",
       " 'participant_13.csv',\n",
       " 'participant_14.csv']"
      ]
     },
     "execution_count": 24,
     "metadata": {},
     "output_type": "execute_result"
    }
   ],
   "source": [
    "activity_datadir = \"../activity_timestamps/\"\n",
    "os.listdir(activity_datadir)"
   ]
  },
  {
   "cell_type": "code",
   "execution_count": 25,
   "id": "17b41a8b-41d0-4237-af1c-33dca4b9c337",
   "metadata": {},
   "outputs": [
    {
     "name": "stdout",
     "output_type": "stream",
     "text": [
      "participant_13.csv\n"
     ]
    },
    {
     "data": {
      "text/html": [
       "<div>\n",
       "<style scoped>\n",
       "    .dataframe tbody tr th:only-of-type {\n",
       "        vertical-align: middle;\n",
       "    }\n",
       "\n",
       "    .dataframe tbody tr th {\n",
       "        vertical-align: top;\n",
       "    }\n",
       "\n",
       "    .dataframe thead th {\n",
       "        text-align: right;\n",
       "    }\n",
       "</style>\n",
       "<table border=\"1\" class=\"dataframe\">\n",
       "  <thead>\n",
       "    <tr style=\"text-align: right;\">\n",
       "      <th></th>\n",
       "      <th>Activity</th>\n",
       "      <th>Timestamp</th>\n",
       "    </tr>\n",
       "  </thead>\n",
       "  <tbody>\n",
       "    <tr>\n",
       "      <th>0</th>\n",
       "      <td>pouring water</td>\n",
       "      <td>5.070043</td>\n",
       "    </tr>\n",
       "    <tr>\n",
       "      <th>1</th>\n",
       "      <td>pointing finger</td>\n",
       "      <td>50.375619</td>\n",
       "    </tr>\n",
       "    <tr>\n",
       "      <th>2</th>\n",
       "      <td>thumbs up</td>\n",
       "      <td>58.205179</td>\n",
       "    </tr>\n",
       "    <tr>\n",
       "      <th>3</th>\n",
       "      <td>writing</td>\n",
       "      <td>62.371104</td>\n",
       "    </tr>\n",
       "    <tr>\n",
       "      <th>4</th>\n",
       "      <td>using controller</td>\n",
       "      <td>116.814917</td>\n",
       "    </tr>\n",
       "  </tbody>\n",
       "</table>\n",
       "</div>"
      ],
      "text/plain": [
       "           Activity   Timestamp\n",
       "0     pouring water    5.070043\n",
       "1   pointing finger   50.375619\n",
       "2         thumbs up   58.205179\n",
       "3           writing   62.371104\n",
       "4  using controller  116.814917"
      ]
     },
     "execution_count": 25,
     "metadata": {},
     "output_type": "execute_result"
    }
   ],
   "source": [
    "activity_df = pd.read_csv(activity_datadir+os.listdir(activity_datadir)[participant-1])\n",
    "print(os.listdir(activity_datadir)[participant-1])\n",
    "activity_df.head()"
   ]
  },
  {
   "cell_type": "code",
   "execution_count": 26,
   "id": "6a7c4a7b-245f-443b-ad03-5c36147f1ea4",
   "metadata": {},
   "outputs": [
    {
     "name": "stdout",
     "output_type": "stream",
     "text": [
      "   Timestamp       QuatI_0   QuatJ_0   QuatK_0     QuatSum_0  QuatI_1  \\\n",
      "0      0.000 -4.329637e-17 -0.707107  0.707107 -4.329637e-17     -0.5   \n",
      "1      0.031 -4.329637e-17 -0.707107  0.707107 -4.329637e-17     -0.5   \n",
      "2      0.066 -4.329637e-17 -0.707107  0.707107 -4.329637e-17     -0.5   \n",
      "3      0.100 -4.329637e-17 -0.707107  0.707107 -4.329637e-17     -0.5   \n",
      "4      0.131 -4.329637e-17 -0.707107  0.707107 -4.329637e-17     -0.5   \n",
      "\n",
      "   QuatJ_1  QuatK_1  QuatSum_1  QuatI_2  ...     QuatSum_3       QuatI_4  \\\n",
      "0     -0.5      0.5       -0.5     -0.5  ... -4.329637e-17 -5.000000e-01   \n",
      "1     -0.5      0.5       -0.5     -0.5  ... -4.329637e-17 -5.000000e-01   \n",
      "2     -0.5      0.5       -0.5     -0.5  ... -5.000000e-01 -4.329637e-17   \n",
      "3     -0.5      0.5       -0.5     -0.5  ... -5.000000e-01 -4.329637e-17   \n",
      "4     -0.5      0.5       -0.5     -0.5  ... -5.000000e-01 -4.329637e-17   \n",
      "\n",
      "    QuatJ_4   QuatK_4     QuatSum_4  QuatI_5  QuatJ_5  QuatK_5  QuatSum_5  \\\n",
      "0 -0.500000  0.500000 -5.000000e-01     -0.5     -0.5      0.5       -0.5   \n",
      "1 -0.500000  0.500000 -5.000000e-01     -0.5     -0.5      0.5       -0.5   \n",
      "2 -0.707107  0.707107 -4.329637e-17     -0.5     -0.5      0.5       -0.5   \n",
      "3 -0.707107  0.707107 -4.329637e-17     -0.5     -0.5      0.5       -0.5   \n",
      "4 -0.707107  0.707107 -4.329637e-17     -0.5     -0.5      0.5       -0.5   \n",
      "\n",
      "   Activity  \n",
      "0   Unknown  \n",
      "1   Unknown  \n",
      "2   Unknown  \n",
      "3   Unknown  \n",
      "4   Unknown  \n",
      "\n",
      "[5 rows x 26 columns]\n"
     ]
    }
   ],
   "source": [
    "aligned_df['Timestamp'] = pd.to_numeric(aligned_df['Timestamp'])  # Ensure numeric timestamps\n",
    "\n",
    "activity_df['Timestamp'] = pd.to_numeric(activity_df['Timestamp'])  # Ensure numeric timestamps\n",
    "\n",
    "aligned_df = aligned_df.sort_values(by='Timestamp').reset_index(drop=True)\n",
    "activity_df = activity_df.sort_values(by='Timestamp').reset_index(drop=True)\n",
    "\n",
    "# Function to find the nearest activity timestamp\n",
    "def find_nearest_activity(imu_time, activity_df):\n",
    "    nearest_row = activity_df[activity_df['Timestamp'] <= imu_time].tail(1)  # Find the closest previous timestamp\n",
    "    return nearest_row['Activity'].values[0] if not nearest_row.empty else \"Unknown\"\n",
    "\n",
    "# Apply annotation by finding the closest activity timestamp for each IMU entry\n",
    "aligned_df['Activity'] = aligned_df['Timestamp'].apply(lambda t: find_nearest_activity(t, activity_df))\n",
    "\n",
    "# Save the annotated IMU data\n",
    "aligned_df.to_csv(f\"./processed/annotated/participant_{participant}.csv\", index=False)\n",
    "\n",
    "#Display the first few rows of the annotated dataset\n",
    "print(aligned_df.head())"
   ]
  },
  {
   "cell_type": "code",
   "execution_count": null,
   "id": "2210d052-e3fc-42b8-9b30-6e173a1c2583",
   "metadata": {},
   "outputs": [],
   "source": []
  },
  {
   "cell_type": "code",
   "execution_count": null,
   "id": "7416026b-3489-4405-a94a-a142f6871dfa",
   "metadata": {},
   "outputs": [],
   "source": []
  }
 ],
 "metadata": {
  "kernelspec": {
   "display_name": "Python 3 (ipykernel)",
   "language": "python",
   "name": "python3"
  },
  "language_info": {
   "codemirror_mode": {
    "name": "ipython",
    "version": 3
   },
   "file_extension": ".py",
   "mimetype": "text/x-python",
   "name": "python",
   "nbconvert_exporter": "python",
   "pygments_lexer": "ipython3",
   "version": "3.9.20"
  }
 },
 "nbformat": 4,
 "nbformat_minor": 5
}
