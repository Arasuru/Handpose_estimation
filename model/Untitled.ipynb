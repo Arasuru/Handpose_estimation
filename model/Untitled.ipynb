{
 "cells": [
  {
   "cell_type": "code",
   "execution_count": 1,
   "id": "614d2c69-0f1d-4efd-90a1-3a69d194d62d",
   "metadata": {},
   "outputs": [],
   "source": [
    "import tensorflow as tf\n",
    "import pandas as pd\n",
    "import numpy as np\n",
    "import matplotlib.pyplot as plt\n",
    "import os"
   ]
  },
  {
   "cell_type": "markdown",
   "id": "c8e28809-b53b-4541-a90f-ae86a7ef755d",
   "metadata": {},
   "source": [
    "# **Data Preparation**"
   ]
  },
  {
   "cell_type": "code",
   "execution_count": 11,
   "id": "6072278e-1ad2-4672-9aed-1dd8a0032db4",
   "metadata": {},
   "outputs": [],
   "source": [
    "frames_dir = '../../video_data/frames/participant_9'\n",
    "frames_list = []\n",
    "\n",
    "for filename in os.listdir(frames_dir):\n",
    "    if filename.endswith(\".jpg\") or filename.endswith(\".png\"):\n",
    "        parts = filename.split(\"_\")\n",
    "        timestamp = float(parts[-1].replace(\".jpg\", \"\").replace(\".png\",\"\"))\n",
    "        frames_list.append({\"Timestamp\": timestamp, \"frame_path\": os.path.join(frames_dir, filename)})\n",
    "\n",
    "frame_df = pd.DataFrame(frames_list)\n",
    "\n",
    "#frame_df = frame_df.sort(values(\"Timestamp\").reset_index(drop=True))\n",
    "\n",
    "frame_df.to_csv(\"./processed/metadata/participant_09.csv\")"
   ]
  },
  {
   "cell_type": "code",
   "execution_count": 13,
   "id": "28c40587-bed5-47bd-9884-f41bfed44382",
   "metadata": {},
   "outputs": [],
   "source": [
    "def load_images_from_folder(folder_path):\n",
    "    image_paths = [os.path.join(folder_path, fname) for fname in os.listdir(folder_path)]\n",
    "    images = [load_image(img_path) for img_path in image_paths]\n",
    "    return tf.stack(images)"
   ]
  },
  {
   "cell_type": "code",
   "execution_count": 14,
   "id": "5aa336ea-1287-47d2-b69c-52d755002b54",
   "metadata": {},
   "outputs": [
    {
     "name": "stdout",
     "output_type": "stream",
     "text": [
      "(15405, 224, 224, 3)\n"
     ]
    }
   ],
   "source": [
    "frames_2 = load_images_from_folder(\"./processed/frames/participant_2\")\n",
    "print(frames.shape)"
   ]
  },
  {
   "cell_type": "code",
   "execution_count": 9,
   "id": "baf15f5a-7bd2-40dc-90eb-0e8e7320ac17",
   "metadata": {},
   "outputs": [
    {
     "data": {
      "text/plain": [
       "TensorShape([15405, 224, 224, 3])"
      ]
     },
     "execution_count": 9,
     "metadata": {},
     "output_type": "execute_result"
    }
   ],
   "source": [
    "frames_1 = frames\n",
    "frames_1.shape"
   ]
  },
  {
   "cell_type": "code",
   "execution_count": null,
   "id": "c1f835dc-af88-4813-831f-d02ffa570ba1",
   "metadata": {},
   "outputs": [],
   "source": []
  }
 ],
 "metadata": {
  "kernelspec": {
   "display_name": "Python 3 (ipykernel)",
   "language": "python",
   "name": "python3"
  },
  "language_info": {
   "codemirror_mode": {
    "name": "ipython",
    "version": 3
   },
   "file_extension": ".py",
   "mimetype": "text/x-python",
   "name": "python",
   "nbconvert_exporter": "python",
   "pygments_lexer": "ipython3",
   "version": "3.9.20"
  }
 },
 "nbformat": 4,
 "nbformat_minor": 5
}
