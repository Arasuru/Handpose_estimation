{
 "cells": [
  {
   "cell_type": "code",
   "execution_count": 1,
   "id": "dbdcf8e7-fb45-43cb-9fc4-eb8ef4ddb732",
   "metadata": {},
   "outputs": [],
   "source": [
    "import tensorflow as tf\n",
    "from tensorflow import keras\n",
    "from tensorflow.keras import layers,models\n",
    "import keras_tuner as kt\n",
    "\n",
    "import numpy as np\n",
    "import pandas as pd\n",
    "\n",
    "from sklearn.preprocessing import StandardScaler, LabelEncoder\n",
    "from sklearn.model_selection import train_test_split\n",
    "import matplotlib.pyplot as plt\n",
    "\n",
    "import os\n",
    "\n",
    "from collections import Counter\n"
   ]
  },
  {
   "cell_type": "markdown",
   "id": "9bcb91a0-18de-4f71-bc9c-c76186aa52f5",
   "metadata": {},
   "source": [
    "# **Data loading**"
   ]
  },
  {
   "cell_type": "code",
   "execution_count": 2,
   "id": "896aecf6-640e-4f30-824e-2222e53e163f",
   "metadata": {},
   "outputs": [],
   "source": [
    "NB_SENSOR_CHANNELS = 24  # 6 sensors × 4 quaternion features\n",
    "NUM_CLASSES = 11  #based on gesture categories\n",
    "SLIDING_WINDOW_LENGTH = 32  # Larger window for meaningful motion\n",
    "FINAL_SEQUENCE_LENGTH = 8\n",
    "SLIDING_WINDOW_STEP = 16  #Overlapping steps for smoother motion tracking\n",
    "BATCH_SIZE = 64  #Balances performance vs. memory usage\n",
    "NUM_FILTERS = 128  # More feature extraction from IMU data , can be tuned dynamically\n",
    "FILTER_SIZE = 5  # Keeps local motion patterns intact, can be tuned dynamically\n",
    "NUM_UNITS_LSTM = 128  # Memory capacity for tracking movement transitions"
   ]
  },
  {
   "cell_type": "code",
   "execution_count": 9,
   "id": "b5d5732f-f5b6-4abd-8153-930146db2b2f",
   "metadata": {},
   "outputs": [
    {
     "data": {
      "text/plain": [
       "['participant_01.csv',\n",
       " 'participant_02.csv',\n",
       " 'participant_03.csv',\n",
       " 'participant_04.csv',\n",
       " 'participant_05.csv',\n",
       " 'participant_06.csv',\n",
       " 'participant_07.csv',\n",
       " 'participant_08.csv',\n",
       " 'participant_09.csv',\n",
       " 'participant_10.csv']"
      ]
     },
     "execution_count": 9,
     "metadata": {},
     "output_type": "execute_result"
    }
   ],
   "source": [
    "annotated_dir = \"./processed/annotated/\"\n",
    "os.listdir(annotated_dir)"
   ]
  },
  {
   "cell_type": "code",
   "execution_count": 7,
   "id": "166d5f03-6cc4-406d-add3-d176e50bd995",
   "metadata": {},
   "outputs": [],
   "source": [
    "def add_gaussian_noise(data, noise_factor=0.01):\n",
    "    augmented_data = data.copy()\n",
    "    quat_cols = [col for col in augmented_data.columns if 'Quat' in col]\n",
    "    augmented_data[quat_cols] += noise_factor * np.random.randn(*augmented_data[quat_cols].shape)\n",
    "    return augmented_data"
   ]
  },
  {
   "cell_type": "code",
   "execution_count": 10,
   "id": "d6f2026a-ef32-4c63-b1fe-a4da13cbdaad",
   "metadata": {},
   "outputs": [
    {
     "name": "stdout",
     "output_type": "stream",
     "text": [
      "participant_01.csv\n",
      "participant_03.csv\n",
      "participant_04.csv\n",
      "participant_05.csv\n",
      "participant_06.csv\n",
      "participant_07.csv\n",
      "participant_08.csv\n",
      "participant_09.csv\n",
      "participant_10.csv\n"
     ]
    }
   ],
   "source": [
    "test_participant = 2\n",
    "data_frames = []\n",
    "for idx,file in enumerate(os.listdir(annotated_dir)):\n",
    "    if idx != test_participant-1:\n",
    "        data_frames.append(add_gaussian_noise(pd.read_csv(os.path.join(annotated_dir, file))))\n",
    "        print(file)\n",
    "df = pd.concat(data_frames, ignore_index=True)"
   ]
  },
  {
   "cell_type": "code",
   "execution_count": 11,
   "id": "0d1a57c8-e991-4a7c-a739-9c5295e01cdf",
   "metadata": {},
   "outputs": [],
   "source": [
    "def load_imu_data(df):\n",
    "    #normalize quaternion features\n",
    "    quaternion_cols = [col for col in df.columns if 'Quat' in col]\n",
    "    scaler = StandardScaler()\n",
    "    df[quaternion_cols] = scaler.fit_transform(df[quaternion_cols])\n",
    "\n",
    "    #encoding activity labels\n",
    "    label_encoder = LabelEncoder()\n",
    "    df['Activity'] = label_encoder.fit_transform(df['Activity'])\n",
    "\n",
    "    return df, label_encoder\n",
    "\n",
    "def create_sequences(df, sequence_length=32, step=SLIDING_WINDOW_STEP):\n",
    "    X, y = [], []\n",
    "    quaternion_cols = [col for col in df.columns if 'Quat' in col]  # Extract quaternion features\n",
    "\n",
    "    for i in range(0, len(df) - sequence_length + 1, step):\n",
    "        X.append(df[quaternion_cols].iloc[i:i+sequence_length].values)  # Extract sensor data window\n",
    "        \n",
    "        # Find the most frequent activity label in the current window\n",
    "        activity_window = df['Activity'].iloc[i:i+sequence_length]\n",
    "        most_frequent_activity = Counter(activity_window).most_common(1)[0][0]  # Get mode\n",
    "        \n",
    "        y.append(most_frequent_activity)  # Assign dominant activity\n",
    "\n",
    "    return np.array(X), np.array(y)"
   ]
  },
  {
   "cell_type": "code",
   "execution_count": 12,
   "id": "3da026c1-6cb8-4af7-ab74-47dd33c877c3",
   "metadata": {},
   "outputs": [],
   "source": [
    "df, label_encoder = load_imu_data(df)\n",
    "X, y = create_sequences(df, sequence_length = SLIDING_WINDOW_LENGTH, step= SLIDING_WINDOW_STEP)"
   ]
  },
  {
   "cell_type": "code",
   "execution_count": 13,
   "id": "6ad29f09-5c74-4d9f-bf2d-02f249f9af7d",
   "metadata": {},
   "outputs": [
    {
     "data": {
      "text/html": [
       "<div>\n",
       "<style scoped>\n",
       "    .dataframe tbody tr th:only-of-type {\n",
       "        vertical-align: middle;\n",
       "    }\n",
       "\n",
       "    .dataframe tbody tr th {\n",
       "        vertical-align: top;\n",
       "    }\n",
       "\n",
       "    .dataframe thead th {\n",
       "        text-align: right;\n",
       "    }\n",
       "</style>\n",
       "<table border=\"1\" class=\"dataframe\">\n",
       "  <thead>\n",
       "    <tr style=\"text-align: right;\">\n",
       "      <th></th>\n",
       "      <th>Timestamp</th>\n",
       "      <th>QuatI_0</th>\n",
       "      <th>QuatJ_0</th>\n",
       "      <th>QuatK_0</th>\n",
       "      <th>QuatSum_0</th>\n",
       "      <th>QuatI_1</th>\n",
       "      <th>QuatJ_1</th>\n",
       "      <th>QuatK_1</th>\n",
       "      <th>QuatSum_1</th>\n",
       "      <th>QuatI_2</th>\n",
       "      <th>...</th>\n",
       "      <th>QuatSum_3</th>\n",
       "      <th>QuatI_4</th>\n",
       "      <th>QuatJ_4</th>\n",
       "      <th>QuatK_4</th>\n",
       "      <th>QuatSum_4</th>\n",
       "      <th>QuatI_5</th>\n",
       "      <th>QuatJ_5</th>\n",
       "      <th>QuatK_5</th>\n",
       "      <th>QuatSum_5</th>\n",
       "      <th>Activity</th>\n",
       "    </tr>\n",
       "  </thead>\n",
       "  <tbody>\n",
       "    <tr>\n",
       "      <th>0</th>\n",
       "      <td>0.000</td>\n",
       "      <td>0.444463</td>\n",
       "      <td>-0.203656</td>\n",
       "      <td>0.376715</td>\n",
       "      <td>0.212354</td>\n",
       "      <td>-1.155308</td>\n",
       "      <td>-0.189272</td>\n",
       "      <td>-1.281550</td>\n",
       "      <td>-1.603075</td>\n",
       "      <td>-1.481309</td>\n",
       "      <td>...</td>\n",
       "      <td>-1.288452</td>\n",
       "      <td>-2.009088</td>\n",
       "      <td>1.862348</td>\n",
       "      <td>-2.636728</td>\n",
       "      <td>-1.822716</td>\n",
       "      <td>0.544193</td>\n",
       "      <td>-0.759360</td>\n",
       "      <td>0.346093</td>\n",
       "      <td>1.449398</td>\n",
       "      <td>0</td>\n",
       "    </tr>\n",
       "    <tr>\n",
       "      <th>1</th>\n",
       "      <td>0.035</td>\n",
       "      <td>0.419753</td>\n",
       "      <td>-0.160415</td>\n",
       "      <td>0.277738</td>\n",
       "      <td>0.178290</td>\n",
       "      <td>-1.182595</td>\n",
       "      <td>1.702787</td>\n",
       "      <td>-1.625480</td>\n",
       "      <td>-1.339489</td>\n",
       "      <td>-1.362591</td>\n",
       "      <td>...</td>\n",
       "      <td>0.935271</td>\n",
       "      <td>0.640499</td>\n",
       "      <td>-0.486578</td>\n",
       "      <td>0.568391</td>\n",
       "      <td>0.245717</td>\n",
       "      <td>-1.213563</td>\n",
       "      <td>-0.104414</td>\n",
       "      <td>-1.152235</td>\n",
       "      <td>-1.296494</td>\n",
       "      <td>0</td>\n",
       "    </tr>\n",
       "    <tr>\n",
       "      <th>2</th>\n",
       "      <td>0.073</td>\n",
       "      <td>0.530383</td>\n",
       "      <td>-0.231509</td>\n",
       "      <td>0.196832</td>\n",
       "      <td>0.185625</td>\n",
       "      <td>-1.146539</td>\n",
       "      <td>1.695561</td>\n",
       "      <td>-1.548611</td>\n",
       "      <td>-1.349888</td>\n",
       "      <td>-1.359683</td>\n",
       "      <td>...</td>\n",
       "      <td>0.911538</td>\n",
       "      <td>0.784931</td>\n",
       "      <td>-0.508427</td>\n",
       "      <td>0.544048</td>\n",
       "      <td>0.270118</td>\n",
       "      <td>-1.236510</td>\n",
       "      <td>-0.136167</td>\n",
       "      <td>-1.184027</td>\n",
       "      <td>-1.345278</td>\n",
       "      <td>0</td>\n",
       "    </tr>\n",
       "    <tr>\n",
       "      <th>3</th>\n",
       "      <td>0.107</td>\n",
       "      <td>0.457452</td>\n",
       "      <td>-0.188186</td>\n",
       "      <td>0.326348</td>\n",
       "      <td>0.204143</td>\n",
       "      <td>0.569996</td>\n",
       "      <td>-0.577367</td>\n",
       "      <td>1.073261</td>\n",
       "      <td>0.407027</td>\n",
       "      <td>-1.061757</td>\n",
       "      <td>...</td>\n",
       "      <td>-1.328673</td>\n",
       "      <td>-1.670437</td>\n",
       "      <td>2.183351</td>\n",
       "      <td>-2.570221</td>\n",
       "      <td>-1.803770</td>\n",
       "      <td>-1.463926</td>\n",
       "      <td>1.925372</td>\n",
       "      <td>-1.512007</td>\n",
       "      <td>-1.123320</td>\n",
       "      <td>0</td>\n",
       "    </tr>\n",
       "    <tr>\n",
       "      <th>4</th>\n",
       "      <td>0.135</td>\n",
       "      <td>0.569234</td>\n",
       "      <td>-0.220286</td>\n",
       "      <td>0.184153</td>\n",
       "      <td>0.251239</td>\n",
       "      <td>-1.176915</td>\n",
       "      <td>1.703287</td>\n",
       "      <td>-1.573396</td>\n",
       "      <td>-1.327933</td>\n",
       "      <td>-1.335778</td>\n",
       "      <td>...</td>\n",
       "      <td>0.911217</td>\n",
       "      <td>0.664367</td>\n",
       "      <td>-0.537041</td>\n",
       "      <td>0.565433</td>\n",
       "      <td>0.237719</td>\n",
       "      <td>-1.222747</td>\n",
       "      <td>-0.105438</td>\n",
       "      <td>-1.160808</td>\n",
       "      <td>-1.288855</td>\n",
       "      <td>0</td>\n",
       "    </tr>\n",
       "  </tbody>\n",
       "</table>\n",
       "<p>5 rows × 26 columns</p>\n",
       "</div>"
      ],
      "text/plain": [
       "   Timestamp   QuatI_0   QuatJ_0   QuatK_0  QuatSum_0   QuatI_1   QuatJ_1  \\\n",
       "0      0.000  0.444463 -0.203656  0.376715   0.212354 -1.155308 -0.189272   \n",
       "1      0.035  0.419753 -0.160415  0.277738   0.178290 -1.182595  1.702787   \n",
       "2      0.073  0.530383 -0.231509  0.196832   0.185625 -1.146539  1.695561   \n",
       "3      0.107  0.457452 -0.188186  0.326348   0.204143  0.569996 -0.577367   \n",
       "4      0.135  0.569234 -0.220286  0.184153   0.251239 -1.176915  1.703287   \n",
       "\n",
       "    QuatK_1  QuatSum_1   QuatI_2  ...  QuatSum_3   QuatI_4   QuatJ_4  \\\n",
       "0 -1.281550  -1.603075 -1.481309  ...  -1.288452 -2.009088  1.862348   \n",
       "1 -1.625480  -1.339489 -1.362591  ...   0.935271  0.640499 -0.486578   \n",
       "2 -1.548611  -1.349888 -1.359683  ...   0.911538  0.784931 -0.508427   \n",
       "3  1.073261   0.407027 -1.061757  ...  -1.328673 -1.670437  2.183351   \n",
       "4 -1.573396  -1.327933 -1.335778  ...   0.911217  0.664367 -0.537041   \n",
       "\n",
       "    QuatK_4  QuatSum_4   QuatI_5   QuatJ_5   QuatK_5  QuatSum_5  Activity  \n",
       "0 -2.636728  -1.822716  0.544193 -0.759360  0.346093   1.449398         0  \n",
       "1  0.568391   0.245717 -1.213563 -0.104414 -1.152235  -1.296494         0  \n",
       "2  0.544048   0.270118 -1.236510 -0.136167 -1.184027  -1.345278         0  \n",
       "3 -2.570221  -1.803770 -1.463926  1.925372 -1.512007  -1.123320         0  \n",
       "4  0.565433   0.237719 -1.222747 -0.105438 -1.160808  -1.288855         0  \n",
       "\n",
       "[5 rows x 26 columns]"
      ]
     },
     "execution_count": 13,
     "metadata": {},
     "output_type": "execute_result"
    }
   ],
   "source": [
    "df.head()"
   ]
  },
  {
   "cell_type": "code",
   "execution_count": 30,
   "id": "2e62ff8d-4eb0-452f-ba73-0de3dfaf15e7",
   "metadata": {},
   "outputs": [],
   "source": [
    "X_train, X_test, y_train, y_test = train_test_split(X, y, test_size=0.2, train_size=0.8, random_state=7,)"
   ]
  },
  {
   "cell_type": "code",
   "execution_count": 14,
   "id": "0081c0ec-96ba-4cc1-8f68-8827b525ba28",
   "metadata": {},
   "outputs": [
    {
     "name": "stdout",
     "output_type": "stream",
     "text": [
      "participant_02.csv\n"
     ]
    }
   ],
   "source": [
    "testfile = pd.read_csv((os.path.join(annotated_dir, os.listdir(annotated_dir)[test_participant-1])))\n",
    "print(os.listdir(annotated_dir)[test_participant-1])"
   ]
  },
  {
   "cell_type": "code",
   "execution_count": 15,
   "id": "4ec5ee55-9c12-436f-aa76-f30de88caeb7",
   "metadata": {},
   "outputs": [],
   "source": [
    "testfile, label_encoder = load_imu_data(testfile)\n",
    "X_test, y_test = create_sequences(testfile, sequence_length = SLIDING_WINDOW_LENGTH)"
   ]
  },
  {
   "cell_type": "code",
   "execution_count": 16,
   "id": "6391a4bd-ecc0-439f-86a3-f5097488034d",
   "metadata": {},
   "outputs": [
    {
     "data": {
      "text/plain": [
       "(array([[[ 0.00000000e+00,  2.22044605e-16, -1.11022302e-16, ...,\n",
       "          -4.20014884e-01,  2.36023971e-01, -8.75045266e-01],\n",
       "         [ 0.00000000e+00,  2.22044605e-16, -1.11022302e-16, ...,\n",
       "          -4.20014884e-01,  2.36023971e-01, -8.75045266e-01],\n",
       "         [ 0.00000000e+00,  2.22044605e-16, -1.11022302e-16, ...,\n",
       "          -4.19543759e-01,  2.36821820e-01, -8.75023551e-01],\n",
       "         ...,\n",
       "         [ 0.00000000e+00,  2.22044605e-16, -1.11022302e-16, ...,\n",
       "          -4.86719827e-01,  7.34392511e-01,  5.48205077e-01],\n",
       "         [ 0.00000000e+00,  2.22044605e-16, -1.11022302e-16, ...,\n",
       "          -4.19589178e-01,  2.38733585e-01, -8.72879639e-01],\n",
       "         [ 0.00000000e+00,  2.22044605e-16, -1.11022302e-16, ...,\n",
       "          -4.19589178e-01,  2.38733585e-01, -8.72879639e-01]],\n",
       " \n",
       "        [[ 0.00000000e+00,  2.22044605e-16, -1.11022302e-16, ...,\n",
       "          -4.19451204e-01,  2.37929202e-01, -8.73995032e-01],\n",
       "         [ 0.00000000e+00,  2.22044605e-16, -1.11022302e-16, ...,\n",
       "          -4.19492112e-01,  2.37984861e-01, -8.73861402e-01],\n",
       "         [ 0.00000000e+00,  2.22044605e-16, -1.11022302e-16, ...,\n",
       "           1.65015621e-02, -5.73851342e-02, -8.11563560e-01],\n",
       "         ...,\n",
       "         [ 0.00000000e+00,  2.22044605e-16, -1.11022302e-16, ...,\n",
       "          -4.19300068e-01,  2.40395741e-01, -8.71612702e-01],\n",
       "         [ 0.00000000e+00,  2.22044605e-16, -1.11022302e-16, ...,\n",
       "           1.57949046e-02, -5.95069325e-02, -8.13336976e-01],\n",
       "         [ 0.00000000e+00,  2.22044605e-16, -1.11022302e-16, ...,\n",
       "          -4.86719827e-01,  7.34392511e-01,  5.48205077e-01]],\n",
       " \n",
       "        [[ 0.00000000e+00,  2.22044605e-16, -1.11022302e-16, ...,\n",
       "          -4.19589178e-01,  2.38733585e-01, -8.72879639e-01],\n",
       "         [ 0.00000000e+00,  2.22044605e-16, -1.11022302e-16, ...,\n",
       "          -4.19639032e-01,  2.38595865e-01, -8.72940111e-01],\n",
       "         [ 0.00000000e+00,  2.22044605e-16, -1.11022302e-16, ...,\n",
       "           1.56366035e-02, -5.99082032e-02, -8.13712243e-01],\n",
       "         ...,\n",
       "         [ 0.00000000e+00,  2.22044605e-16, -1.11022302e-16, ...,\n",
       "          -4.19233247e-01,  2.40921480e-01, -8.71165148e-01],\n",
       "         [ 0.00000000e+00,  2.22044605e-16, -1.11022302e-16, ...,\n",
       "          -4.19216288e-01,  2.41309508e-01, -8.70778076e-01],\n",
       "         [ 0.00000000e+00,  2.22044605e-16, -1.11022302e-16, ...,\n",
       "          -4.86719827e-01,  7.34392511e-01,  5.48205077e-01]],\n",
       " \n",
       "        [[ 0.00000000e+00,  2.22044605e-16, -1.11022302e-16, ...,\n",
       "          -4.86719827e-01,  7.34392511e-01,  5.48205077e-01],\n",
       "         [ 0.00000000e+00,  2.22044605e-16, -1.11022302e-16, ...,\n",
       "          -4.19020340e-01,  2.40837349e-01, -8.71639897e-01],\n",
       "         [ 0.00000000e+00,  2.22044605e-16, -1.11022302e-16, ...,\n",
       "          -4.19251630e-01,  2.40535387e-01, -8.71553947e-01],\n",
       "         ...,\n",
       "         [ 0.00000000e+00,  2.22044605e-16, -1.11022302e-16, ...,\n",
       "          -4.19591490e-01,  2.41614458e-01, -8.69767187e-01],\n",
       "         [ 0.00000000e+00,  2.22044605e-16, -1.11022302e-16, ...,\n",
       "           1.46176617e-02, -6.24273139e-02, -8.15864454e-01],\n",
       "         [ 0.00000000e+00,  2.22044605e-16, -1.11022302e-16, ...,\n",
       "           1.46176617e-02, -6.24273139e-02, -8.15864454e-01]],\n",
       " \n",
       "        [[ 0.00000000e+00,  2.22044605e-16, -1.11022302e-16, ...,\n",
       "          -4.19199266e-01,  2.41697453e-01, -8.70390928e-01],\n",
       "         [ 0.00000000e+00,  2.22044605e-16, -1.11022302e-16, ...,\n",
       "          -4.19199266e-01,  2.41697453e-01, -8.70390928e-01],\n",
       "         [ 0.00000000e+00,  2.22044605e-16, -1.11022302e-16, ...,\n",
       "           1.45392770e-02, -6.25262153e-02, -8.15959534e-01],\n",
       "         ...,\n",
       "         [ 0.00000000e+00,  2.22044605e-16, -1.11022302e-16, ...,\n",
       "          -4.18666708e-01,  2.45289443e-01, -8.67362690e-01],\n",
       "         [ 0.00000000e+00,  2.22044605e-16, -1.11022302e-16, ...,\n",
       "           1.60967566e-02, -5.60121464e-02, -8.10955080e-01],\n",
       "         [ 0.00000000e+00,  2.22044605e-16, -1.11022302e-16, ...,\n",
       "           1.57011219e-02, -5.69127079e-02, -8.11801479e-01]]]),\n",
       " array([0, 0, 0, 0, 0]))"
      ]
     },
     "execution_count": 16,
     "metadata": {},
     "output_type": "execute_result"
    }
   ],
   "source": [
    "X_test[:5], y_test[:5]"
   ]
  },
  {
   "cell_type": "markdown",
   "id": "05a3a7e6-c0b3-4885-8cb4-4864fa3801f0",
   "metadata": {},
   "source": [
    "# **Modelling the architecture of the network**"
   ]
  },
  {
   "cell_type": "code",
   "execution_count": 17,
   "id": "db600e4c-9cee-4031-85df-959bc822722f",
   "metadata": {},
   "outputs": [],
   "source": [
    "model1 = models.Sequential()"
   ]
  },
  {
   "cell_type": "code",
   "execution_count": 18,
   "id": "964f2329-23e2-42a8-b4fa-e9609a2f807e",
   "metadata": {},
   "outputs": [],
   "source": [
    "# Input Layer\n",
    "model1.add(layers.Input(shape=(SLIDING_WINDOW_LENGTH, NB_SENSOR_CHANNELS, 1)))  # (Batch, Time, Features, Channels)\n",
    "\n",
    "# Convolutional Layers (Deep CNN Feature Extraction)\n",
    "model1.add(layers.Conv2D(NUM_FILTERS, (FILTER_SIZE, 1), activation='relu'))\n",
    "model1.add(layers.Conv2D(NUM_FILTERS, (FILTER_SIZE, 1), activation='relu'))\n",
    "model1.add(layers.Conv2D(NUM_FILTERS, (FILTER_SIZE, 1), activation='relu'))\n",
    "model1.add(layers.Conv2D(NUM_FILTERS, (FILTER_SIZE, 1), activation='relu'))\n",
    "\n",
    "# Reshape for LSTM input (Time, Features)\n",
    "model1.add(layers.Reshape((-1, NUM_FILTERS)))  # Removing channel dimension\n",
    "\n",
    "# LSTM Layers (Shallow LSTMs for Temporal Processing)\n",
    "model1.add(layers.LSTM(NUM_UNITS_LSTM, return_sequences=True))\n",
    "model1.add(layers.LSTM(NUM_UNITS_LSTM, return_sequences=False))  # Last LSTM outputs final sequence\n",
    "\n",
    "# Dense Layer for classification\n",
    "model1.add(layers.Dense(NUM_CLASSES, activation='softmax'))  # Probability distribution over classes"
   ]
  },
  {
   "cell_type": "code",
   "execution_count": 19,
   "id": "e62971b0-acf6-4d96-a4ad-79a9380c351a",
   "metadata": {},
   "outputs": [
    {
     "data": {
      "text/html": [
       "<pre style=\"white-space:pre;overflow-x:auto;line-height:normal;font-family:Menlo,'DejaVu Sans Mono',consolas,'Courier New',monospace\"><span style=\"font-weight: bold\">Model: \"sequential\"</span>\n",
       "</pre>\n"
      ],
      "text/plain": [
       "\u001b[1mModel: \"sequential\"\u001b[0m\n"
      ]
     },
     "metadata": {},
     "output_type": "display_data"
    },
    {
     "data": {
      "text/html": [
       "<pre style=\"white-space:pre;overflow-x:auto;line-height:normal;font-family:Menlo,'DejaVu Sans Mono',consolas,'Courier New',monospace\">┏━━━━━━━━━━━━━━━━━━━━━━━━━━━━━━━━━━━━━━┳━━━━━━━━━━━━━━━━━━━━━━━━━━━━━┳━━━━━━━━━━━━━━━━━┓\n",
       "┃<span style=\"font-weight: bold\"> Layer (type)                         </span>┃<span style=\"font-weight: bold\"> Output Shape                </span>┃<span style=\"font-weight: bold\">         Param # </span>┃\n",
       "┡━━━━━━━━━━━━━━━━━━━━━━━━━━━━━━━━━━━━━━╇━━━━━━━━━━━━━━━━━━━━━━━━━━━━━╇━━━━━━━━━━━━━━━━━┩\n",
       "│ conv2d (<span style=\"color: #0087ff; text-decoration-color: #0087ff\">Conv2D</span>)                      │ (<span style=\"color: #00d7ff; text-decoration-color: #00d7ff\">None</span>, <span style=\"color: #00af00; text-decoration-color: #00af00\">28</span>, <span style=\"color: #00af00; text-decoration-color: #00af00\">24</span>, <span style=\"color: #00af00; text-decoration-color: #00af00\">128</span>)         │             <span style=\"color: #00af00; text-decoration-color: #00af00\">768</span> │\n",
       "├──────────────────────────────────────┼─────────────────────────────┼─────────────────┤\n",
       "│ conv2d_1 (<span style=\"color: #0087ff; text-decoration-color: #0087ff\">Conv2D</span>)                    │ (<span style=\"color: #00d7ff; text-decoration-color: #00d7ff\">None</span>, <span style=\"color: #00af00; text-decoration-color: #00af00\">24</span>, <span style=\"color: #00af00; text-decoration-color: #00af00\">24</span>, <span style=\"color: #00af00; text-decoration-color: #00af00\">128</span>)         │          <span style=\"color: #00af00; text-decoration-color: #00af00\">82,048</span> │\n",
       "├──────────────────────────────────────┼─────────────────────────────┼─────────────────┤\n",
       "│ conv2d_2 (<span style=\"color: #0087ff; text-decoration-color: #0087ff\">Conv2D</span>)                    │ (<span style=\"color: #00d7ff; text-decoration-color: #00d7ff\">None</span>, <span style=\"color: #00af00; text-decoration-color: #00af00\">20</span>, <span style=\"color: #00af00; text-decoration-color: #00af00\">24</span>, <span style=\"color: #00af00; text-decoration-color: #00af00\">128</span>)         │          <span style=\"color: #00af00; text-decoration-color: #00af00\">82,048</span> │\n",
       "├──────────────────────────────────────┼─────────────────────────────┼─────────────────┤\n",
       "│ conv2d_3 (<span style=\"color: #0087ff; text-decoration-color: #0087ff\">Conv2D</span>)                    │ (<span style=\"color: #00d7ff; text-decoration-color: #00d7ff\">None</span>, <span style=\"color: #00af00; text-decoration-color: #00af00\">16</span>, <span style=\"color: #00af00; text-decoration-color: #00af00\">24</span>, <span style=\"color: #00af00; text-decoration-color: #00af00\">128</span>)         │          <span style=\"color: #00af00; text-decoration-color: #00af00\">82,048</span> │\n",
       "├──────────────────────────────────────┼─────────────────────────────┼─────────────────┤\n",
       "│ reshape (<span style=\"color: #0087ff; text-decoration-color: #0087ff\">Reshape</span>)                    │ (<span style=\"color: #00d7ff; text-decoration-color: #00d7ff\">None</span>, <span style=\"color: #00af00; text-decoration-color: #00af00\">384</span>, <span style=\"color: #00af00; text-decoration-color: #00af00\">128</span>)            │               <span style=\"color: #00af00; text-decoration-color: #00af00\">0</span> │\n",
       "├──────────────────────────────────────┼─────────────────────────────┼─────────────────┤\n",
       "│ lstm (<span style=\"color: #0087ff; text-decoration-color: #0087ff\">LSTM</span>)                          │ (<span style=\"color: #00d7ff; text-decoration-color: #00d7ff\">None</span>, <span style=\"color: #00af00; text-decoration-color: #00af00\">384</span>, <span style=\"color: #00af00; text-decoration-color: #00af00\">128</span>)            │         <span style=\"color: #00af00; text-decoration-color: #00af00\">131,584</span> │\n",
       "├──────────────────────────────────────┼─────────────────────────────┼─────────────────┤\n",
       "│ lstm_1 (<span style=\"color: #0087ff; text-decoration-color: #0087ff\">LSTM</span>)                        │ (<span style=\"color: #00d7ff; text-decoration-color: #00d7ff\">None</span>, <span style=\"color: #00af00; text-decoration-color: #00af00\">128</span>)                 │         <span style=\"color: #00af00; text-decoration-color: #00af00\">131,584</span> │\n",
       "├──────────────────────────────────────┼─────────────────────────────┼─────────────────┤\n",
       "│ dense (<span style=\"color: #0087ff; text-decoration-color: #0087ff\">Dense</span>)                        │ (<span style=\"color: #00d7ff; text-decoration-color: #00d7ff\">None</span>, <span style=\"color: #00af00; text-decoration-color: #00af00\">11</span>)                  │           <span style=\"color: #00af00; text-decoration-color: #00af00\">1,419</span> │\n",
       "└──────────────────────────────────────┴─────────────────────────────┴─────────────────┘\n",
       "</pre>\n"
      ],
      "text/plain": [
       "┏━━━━━━━━━━━━━━━━━━━━━━━━━━━━━━━━━━━━━━┳━━━━━━━━━━━━━━━━━━━━━━━━━━━━━┳━━━━━━━━━━━━━━━━━┓\n",
       "┃\u001b[1m \u001b[0m\u001b[1mLayer (type)                        \u001b[0m\u001b[1m \u001b[0m┃\u001b[1m \u001b[0m\u001b[1mOutput Shape               \u001b[0m\u001b[1m \u001b[0m┃\u001b[1m \u001b[0m\u001b[1m        Param #\u001b[0m\u001b[1m \u001b[0m┃\n",
       "┡━━━━━━━━━━━━━━━━━━━━━━━━━━━━━━━━━━━━━━╇━━━━━━━━━━━━━━━━━━━━━━━━━━━━━╇━━━━━━━━━━━━━━━━━┩\n",
       "│ conv2d (\u001b[38;5;33mConv2D\u001b[0m)                      │ (\u001b[38;5;45mNone\u001b[0m, \u001b[38;5;34m28\u001b[0m, \u001b[38;5;34m24\u001b[0m, \u001b[38;5;34m128\u001b[0m)         │             \u001b[38;5;34m768\u001b[0m │\n",
       "├──────────────────────────────────────┼─────────────────────────────┼─────────────────┤\n",
       "│ conv2d_1 (\u001b[38;5;33mConv2D\u001b[0m)                    │ (\u001b[38;5;45mNone\u001b[0m, \u001b[38;5;34m24\u001b[0m, \u001b[38;5;34m24\u001b[0m, \u001b[38;5;34m128\u001b[0m)         │          \u001b[38;5;34m82,048\u001b[0m │\n",
       "├──────────────────────────────────────┼─────────────────────────────┼─────────────────┤\n",
       "│ conv2d_2 (\u001b[38;5;33mConv2D\u001b[0m)                    │ (\u001b[38;5;45mNone\u001b[0m, \u001b[38;5;34m20\u001b[0m, \u001b[38;5;34m24\u001b[0m, \u001b[38;5;34m128\u001b[0m)         │          \u001b[38;5;34m82,048\u001b[0m │\n",
       "├──────────────────────────────────────┼─────────────────────────────┼─────────────────┤\n",
       "│ conv2d_3 (\u001b[38;5;33mConv2D\u001b[0m)                    │ (\u001b[38;5;45mNone\u001b[0m, \u001b[38;5;34m16\u001b[0m, \u001b[38;5;34m24\u001b[0m, \u001b[38;5;34m128\u001b[0m)         │          \u001b[38;5;34m82,048\u001b[0m │\n",
       "├──────────────────────────────────────┼─────────────────────────────┼─────────────────┤\n",
       "│ reshape (\u001b[38;5;33mReshape\u001b[0m)                    │ (\u001b[38;5;45mNone\u001b[0m, \u001b[38;5;34m384\u001b[0m, \u001b[38;5;34m128\u001b[0m)            │               \u001b[38;5;34m0\u001b[0m │\n",
       "├──────────────────────────────────────┼─────────────────────────────┼─────────────────┤\n",
       "│ lstm (\u001b[38;5;33mLSTM\u001b[0m)                          │ (\u001b[38;5;45mNone\u001b[0m, \u001b[38;5;34m384\u001b[0m, \u001b[38;5;34m128\u001b[0m)            │         \u001b[38;5;34m131,584\u001b[0m │\n",
       "├──────────────────────────────────────┼─────────────────────────────┼─────────────────┤\n",
       "│ lstm_1 (\u001b[38;5;33mLSTM\u001b[0m)                        │ (\u001b[38;5;45mNone\u001b[0m, \u001b[38;5;34m128\u001b[0m)                 │         \u001b[38;5;34m131,584\u001b[0m │\n",
       "├──────────────────────────────────────┼─────────────────────────────┼─────────────────┤\n",
       "│ dense (\u001b[38;5;33mDense\u001b[0m)                        │ (\u001b[38;5;45mNone\u001b[0m, \u001b[38;5;34m11\u001b[0m)                  │           \u001b[38;5;34m1,419\u001b[0m │\n",
       "└──────────────────────────────────────┴─────────────────────────────┴─────────────────┘\n"
      ]
     },
     "metadata": {},
     "output_type": "display_data"
    },
    {
     "data": {
      "text/html": [
       "<pre style=\"white-space:pre;overflow-x:auto;line-height:normal;font-family:Menlo,'DejaVu Sans Mono',consolas,'Courier New',monospace\"><span style=\"font-weight: bold\"> Total params: </span><span style=\"color: #00af00; text-decoration-color: #00af00\">511,499</span> (1.95 MB)\n",
       "</pre>\n"
      ],
      "text/plain": [
       "\u001b[1m Total params: \u001b[0m\u001b[38;5;34m511,499\u001b[0m (1.95 MB)\n"
      ]
     },
     "metadata": {},
     "output_type": "display_data"
    },
    {
     "data": {
      "text/html": [
       "<pre style=\"white-space:pre;overflow-x:auto;line-height:normal;font-family:Menlo,'DejaVu Sans Mono',consolas,'Courier New',monospace\"><span style=\"font-weight: bold\"> Trainable params: </span><span style=\"color: #00af00; text-decoration-color: #00af00\">511,499</span> (1.95 MB)\n",
       "</pre>\n"
      ],
      "text/plain": [
       "\u001b[1m Trainable params: \u001b[0m\u001b[38;5;34m511,499\u001b[0m (1.95 MB)\n"
      ]
     },
     "metadata": {},
     "output_type": "display_data"
    },
    {
     "data": {
      "text/html": [
       "<pre style=\"white-space:pre;overflow-x:auto;line-height:normal;font-family:Menlo,'DejaVu Sans Mono',consolas,'Courier New',monospace\"><span style=\"font-weight: bold\"> Non-trainable params: </span><span style=\"color: #00af00; text-decoration-color: #00af00\">0</span> (0.00 B)\n",
       "</pre>\n"
      ],
      "text/plain": [
       "\u001b[1m Non-trainable params: \u001b[0m\u001b[38;5;34m0\u001b[0m (0.00 B)\n"
      ]
     },
     "metadata": {},
     "output_type": "display_data"
    }
   ],
   "source": [
    "model1.compile(\n",
    "    optimizer=tf.keras.optimizers.Adam(learning_rate=0.001),\n",
    "    loss=\"sparse_categorical_crossentropy\",\n",
    "    metrics=[\"accuracy\"]\n",
    ")\n",
    "model1.summary()"
   ]
  },
  {
   "cell_type": "markdown",
   "id": "57c45c63-7adb-4c3c-858f-257c4794b260",
   "metadata": {},
   "source": [
    "# **Model Training**"
   ]
  },
  {
   "cell_type": "code",
   "execution_count": 20,
   "id": "797377cd-28c0-4622-9a23-ddc3b7bcb6fa",
   "metadata": {},
   "outputs": [
    {
     "name": "stdout",
     "output_type": "stream",
     "text": [
      "Epoch 1/10\n",
      "\u001b[1m50/50\u001b[0m \u001b[32m━━━━━━━━━━━━━━━━━━━━\u001b[0m\u001b[37m\u001b[0m \u001b[1m59s\u001b[0m 1s/step - accuracy: 0.1647 - loss: 2.3122 - val_accuracy: 0.1562 - val_loss: 2.2583 - learning_rate: 0.0010\n",
      "Epoch 2/10\n",
      "\u001b[1m50/50\u001b[0m \u001b[32m━━━━━━━━━━━━━━━━━━━━\u001b[0m\u001b[37m\u001b[0m \u001b[1m54s\u001b[0m 1s/step - accuracy: 0.1840 - loss: 2.2574 - val_accuracy: 0.2156 - val_loss: 2.2381 - learning_rate: 0.0010\n",
      "Epoch 3/10\n",
      "\u001b[1m50/50\u001b[0m \u001b[32m━━━━━━━━━━━━━━━━━━━━\u001b[0m\u001b[37m\u001b[0m \u001b[1m55s\u001b[0m 1s/step - accuracy: 0.1946 - loss: 2.2279 - val_accuracy: 0.2031 - val_loss: 2.2400 - learning_rate: 0.0010\n",
      "Epoch 4/10\n",
      "\u001b[1m50/50\u001b[0m \u001b[32m━━━━━━━━━━━━━━━━━━━━\u001b[0m\u001b[37m\u001b[0m \u001b[1m56s\u001b[0m 1s/step - accuracy: 0.2472 - loss: 2.1053 - val_accuracy: 0.2062 - val_loss: 2.2040 - learning_rate: 0.0010\n",
      "Epoch 5/10\n",
      "\u001b[1m50/50\u001b[0m \u001b[32m━━━━━━━━━━━━━━━━━━━━\u001b[0m\u001b[37m\u001b[0m \u001b[1m56s\u001b[0m 1s/step - accuracy: 0.3518 - loss: 1.9297 - val_accuracy: 0.3063 - val_loss: 2.0915 - learning_rate: 0.0010\n",
      "Epoch 6/10\n",
      "\u001b[1m50/50\u001b[0m \u001b[32m━━━━━━━━━━━━━━━━━━━━\u001b[0m\u001b[37m\u001b[0m \u001b[1m57s\u001b[0m 1s/step - accuracy: 0.4374 - loss: 1.7244 - val_accuracy: 0.3250 - val_loss: 2.0159 - learning_rate: 0.0010\n",
      "Epoch 7/10\n",
      "\u001b[1m50/50\u001b[0m \u001b[32m━━━━━━━━━━━━━━━━━━━━\u001b[0m\u001b[37m\u001b[0m \u001b[1m60s\u001b[0m 1s/step - accuracy: 0.4862 - loss: 1.5627 - val_accuracy: 0.3375 - val_loss: 1.9678 - learning_rate: 0.0010\n",
      "Epoch 8/10\n",
      "\u001b[1m50/50\u001b[0m \u001b[32m━━━━━━━━━━━━━━━━━━━━\u001b[0m\u001b[37m\u001b[0m \u001b[1m59s\u001b[0m 1s/step - accuracy: 0.5308 - loss: 1.4428 - val_accuracy: 0.3031 - val_loss: 1.9179 - learning_rate: 0.0010\n",
      "Epoch 9/10\n",
      "\u001b[1m50/50\u001b[0m \u001b[32m━━━━━━━━━━━━━━━━━━━━\u001b[0m\u001b[37m\u001b[0m \u001b[1m61s\u001b[0m 1s/step - accuracy: 0.5743 - loss: 1.3128 - val_accuracy: 0.3562 - val_loss: 2.0055 - learning_rate: 0.0010\n",
      "Epoch 10/10\n",
      "\u001b[1m50/50\u001b[0m \u001b[32m━━━━━━━━━━━━━━━━━━━━\u001b[0m\u001b[37m\u001b[0m \u001b[1m61s\u001b[0m 1s/step - accuracy: 0.5894 - loss: 1.2345 - val_accuracy: 0.3531 - val_loss: 2.1008 - learning_rate: 0.0010\n"
     ]
    }
   ],
   "source": [
    "history = model1.fit(\n",
    "    X, y,\n",
    "    batch_size=BATCH_SIZE,\n",
    "    epochs=10,\n",
    "    validation_data=(X_test, y_test),\n",
    "    callbacks=[\n",
    "        tf.keras.callbacks.EarlyStopping(monitor=\"val_loss\", patience=5, restore_best_weights=True),\n",
    "        tf.keras.callbacks.ReduceLROnPlateau(monitor=\"val_loss\", factor=0.5, patience=3)\n",
    "    ]\n",
    ")"
   ]
  },
  {
   "cell_type": "code",
   "execution_count": 21,
   "id": "7c2cb981-d85a-4d5f-9e04-73894ddec940",
   "metadata": {},
   "outputs": [
    {
     "data": {
      "image/png": "[encoded data removed]",
      "text/plain": [
       "<Figure size 1200x400 with 2 Axes>"
      ]
     },
     "metadata": {},
     "output_type": "display_data"
    }
   ],
   "source": [
    "# Plot Accuracy & Loss\n",
    "plt.figure(figsize=(12, 4))\n",
    "\n",
    "plt.subplot(1, 2, 1)\n",
    "plt.plot(history.history[\"accuracy\"], label=\"Train Accuracy\")\n",
    "plt.plot(history.history[\"val_accuracy\"], label=\"Val Accuracy\")\n",
    "plt.legend()\n",
    "plt.title(\"Model Accuracy\")\n",
    "\n",
    "plt.subplot(1, 2, 2)\n",
    "plt.plot(history.history[\"loss\"], label=\"Train Loss\")\n",
    "plt.plot(history.history[\"val_loss\"], label=\"Val Loss\")\n",
    "plt.legend()\n",
    "plt.title(\"Model Loss\")\n",
    "\n",
    "plt.show()"
   ]
  },
  {
   "cell_type": "code",
   "execution_count": 22,
   "id": "d3f10dfd-5bf6-4453-857b-59df3674182f",
   "metadata": {},
   "outputs": [
    {
     "name": "stdout",
     "output_type": "stream",
     "text": [
      "\u001b[1m10/10\u001b[0m \u001b[32m━━━━━━━━━━━━━━━━━━━━\u001b[0m\u001b[37m\u001b[0m \u001b[1m2s\u001b[0m 176ms/step - accuracy: 0.3173 - loss: 1.8699\n",
      "Test Accuracy: 0.3031, Test Loss: 1.9179\n"
     ]
    }
   ],
   "source": [
    "test_loss, test_acc = model1.evaluate(X_test, y_test)\n",
    "print(f\"Test Accuracy: {test_acc:.4f}, Test Loss: {test_loss:.4f}\")"
   ]
  },
  {
   "cell_type": "code",
   "execution_count": 21,
   "id": "fba2b768-2f69-4390-a7b9-5efd46f240ce",
   "metadata": {},
   "outputs": [
    {
     "name": "stderr",
     "output_type": "stream",
     "text": [
      "WARNING:absl:You are saving your model as an HDF5 file via `model.save()` or `keras.saving.save_model(model)`. This file format is considered legacy. We recommend using instead the native Keras format, e.g. `model.save('my_model.keras')` or `keras.saving.save_model(model, 'my_model.keras')`. \n"
     ]
    }
   ],
   "source": [
    "model1.save(\"final_imu_model.h5\")  # Saves the trained model"
   ]
  },
  {
   "cell_type": "code",
   "execution_count": null,
   "id": "32e515db-3ff8-4efa-89a1-ad7f156057b6",
   "metadata": {},
   "outputs": [],
   "source": []
  },
  {
   "cell_type": "code",
   "execution_count": null,
   "id": "d8bd68a2-cd15-4c69-852b-bd0636e74ba2",
   "metadata": {},
   "outputs": [],
   "source": []
  }
 ],
 "metadata": {
  "kernelspec": {
   "display_name": "Python 3 (ipykernel)",
   "language": "python",
   "name": "python3"
  },
  "language_info": {
   "codemirror_mode": {
    "name": "ipython",
    "version": 3
   },
   "file_extension": ".py",
   "mimetype": "text/x-python",
   "name": "python",
   "nbconvert_exporter": "python",
   "pygments_lexer": "ipython3",
   "version": "3.9.20"
  }
 },
 "nbformat": 4,
 "nbformat_minor": 5
}
