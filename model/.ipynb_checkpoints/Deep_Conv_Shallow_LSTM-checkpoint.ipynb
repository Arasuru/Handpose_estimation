{
 "cells": [
  {
   "cell_type": "code",
   "execution_count": 1,
   "id": "dbdcf8e7-fb45-43cb-9fc4-eb8ef4ddb732",
   "metadata": {},
   "outputs": [],
   "source": [
    "import tensorflow as tf\n",
    "from tensorflow import keras\n",
    "from tensorflow.keras import layers,models\n",
    "import keras_tuner as kt\n",
    "\n",
    "import numpy as np\n",
    "import pandas as pd\n",
    "\n",
    "from sklearn.preprocessing import StandardScaler, LabelEncoder\n",
    "from sklearn.model_selection import train_test_split\n",
    "import matplotlib.pyplot as plt\n",
    "\n",
    "import os\n",
    "\n",
    "from collections import Counter\n"
   ]
  },
  {
   "cell_type": "markdown",
   "id": "9bcb91a0-18de-4f71-bc9c-c76186aa52f5",
   "metadata": {},
   "source": [
    "# **Data loading**"
   ]
  },
  {
   "cell_type": "code",
   "execution_count": 2,
   "id": "896aecf6-640e-4f30-824e-2222e53e163f",
   "metadata": {},
   "outputs": [],
   "source": [
    "NB_SENSOR_CHANNELS = 24  # 6 sensors × 4 quaternion features\n",
    "NUM_CLASSES = 11  #based on gesture categories\n",
    "SLIDING_WINDOW_LENGTH = 32  # Larger window for meaningful motion\n",
    "FINAL_SEQUENCE_LENGTH = 8\n",
    "SLIDING_WINDOW_STEP = 16  #Overlapping steps for smoother motion tracking\n",
    "BATCH_SIZE = 64  #Balances performance vs. memory usage\n",
    "NUM_FILTERS = 128  # More feature extraction from IMU data , can be tuned dynamically\n",
    "FILTER_SIZE = 5  # Keeps local motion patterns intact, can be tuned dynamically\n",
    "NUM_UNITS_LSTM = 128  # Memory capacity for tracking movement transitions"
   ]
  },
  {
   "cell_type": "code",
   "execution_count": 24,
   "id": "b5d5732f-f5b6-4abd-8153-930146db2b2f",
   "metadata": {},
   "outputs": [
    {
     "data": {
      "text/plain": [
       "['participant_01.csv',\n",
       " 'participant_02.csv',\n",
       " 'participant_03.csv',\n",
       " 'participant_04.csv',\n",
       " 'participant_05.csv',\n",
       " 'participant_06.csv',\n",
       " 'participant_07.csv',\n",
       " 'participant_08.csv',\n",
       " 'participant_09.csv',\n",
       " 'participant_10.csv',\n",
       " 'participant_11.csv',\n",
       " 'participant_12.csv',\n",
       " 'participant_13.csv',\n",
       " 'participant_14.csv']"
      ]
     },
     "execution_count": 24,
     "metadata": {},
     "output_type": "execute_result"
    }
   ],
   "source": [
    "annotated_dir = \"./processed/annotated/\"\n",
    "os.listdir(annotated_dir)"
   ]
  },
  {
   "cell_type": "code",
   "execution_count": null,
   "id": "166d5f03-6cc4-406d-add3-d176e50bd995",
   "metadata": {},
   "outputs": [],
   "source": [
    "def add_gaussian_noise(data, noise_factor=0.01):\n",
    "    augmented_data = data.copy()\n",
    "    quat_cols = [col for col in augmented_data.columns if 'Quat' in col]\n",
    "    augmented_data[quat_cols] += noise_factor * np.random.randn(*augmented_data[quat_cols].shape)\n",
    "    return augmented_data"
   ]
  },
  {
   "cell_type": "code",
   "execution_count": 26,
   "id": "d6f2026a-ef32-4c63-b1fe-a4da13cbdaad",
   "metadata": {},
   "outputs": [
    {
     "name": "stdout",
     "output_type": "stream",
     "text": [
      "participant_01.csv\n",
      "participant_02.csv\n",
      "participant_03.csv\n",
      "participant_04.csv\n",
      "participant_05.csv\n",
      "participant_06.csv\n",
      "participant_07.csv\n",
      "participant_08.csv\n",
      "participant_09.csv\n",
      "participant_10.csv\n",
      "participant_11.csv\n",
      "participant_12.csv\n",
      "participant_13.csv\n",
      "participant_14.csv\n"
     ]
    }
   ],
   "source": [
    "test_participant = 0\n",
    "data_frames = []\n",
    "for idx,file in enumerate(os.listdir(annotated_dir)):\n",
    "    if idx != test_participant-1:\n",
    "        data_frames.append(pd.read_csv(os.path.join(annotated_dir, file)))\n",
    "        print(file)\n",
    "df = pd.concat(data_frames, ignore_index=True)"
   ]
  },
  {
   "cell_type": "code",
   "execution_count": 17,
   "id": "0d1a57c8-e991-4a7c-a739-9c5295e01cdf",
   "metadata": {},
   "outputs": [],
   "source": [
    "def load_imu_data(df):\n",
    "    #normalize quaternion features\n",
    "    quaternion_cols = [col for col in df.columns if 'Quat' in col]\n",
    "    scaler = StandardScaler()\n",
    "    df[quaternion_cols] = scaler.fit_transform(df[quaternion_cols])\n",
    "\n",
    "    #encoding activity labels\n",
    "    label_encoder = LabelEncoder()\n",
    "    df['Activity'] = label_encoder.fit_transform(df['Activity'])\n",
    "\n",
    "    return df, label_encoder\n",
    "\n",
    "def create_sequences(df, sequence_length=32, step=SLIDING_WINDOW_STEP):\n",
    "    X, y = [], []\n",
    "    quaternion_cols = [col for col in df.columns if 'Quat' in col]  # Extract quaternion features\n",
    "\n",
    "    for i in range(0, len(df) - sequence_length + 1, step):\n",
    "        X.append(df[quaternion_cols].iloc[i:i+sequence_length].values)  # Extract sensor data window\n",
    "        \n",
    "        # Find the most frequent activity label in the current window\n",
    "        activity_window = df['Activity'].iloc[i:i+sequence_length]\n",
    "        most_frequent_activity = Counter(activity_window).most_common(1)[0][0]  # Get mode\n",
    "        \n",
    "        y.append(most_frequent_activity)  # Assign dominant activity\n",
    "\n",
    "    return np.array(X), np.array(y)"
   ]
  },
  {
   "cell_type": "code",
   "execution_count": 27,
   "id": "3da026c1-6cb8-4af7-ab74-47dd33c877c3",
   "metadata": {},
   "outputs": [],
   "source": [
    "df, label_encoder = load_imu_data(df)\n",
    "X, y = create_sequences(df, sequence_length = SLIDING_WINDOW_LENGTH, step= 32)"
   ]
  },
  {
   "cell_type": "code",
   "execution_count": 7,
   "id": "6ad29f09-5c74-4d9f-bf2d-02f249f9af7d",
   "metadata": {},
   "outputs": [
    {
     "data": {
      "text/html": [
       "<div>\n",
       "<style scoped>\n",
       "    .dataframe tbody tr th:only-of-type {\n",
       "        vertical-align: middle;\n",
       "    }\n",
       "\n",
       "    .dataframe tbody tr th {\n",
       "        vertical-align: top;\n",
       "    }\n",
       "\n",
       "    .dataframe thead th {\n",
       "        text-align: right;\n",
       "    }\n",
       "</style>\n",
       "<table border=\"1\" class=\"dataframe\">\n",
       "  <thead>\n",
       "    <tr style=\"text-align: right;\">\n",
       "      <th></th>\n",
       "      <th>Timestamp</th>\n",
       "      <th>QuatI_0</th>\n",
       "      <th>QuatJ_0</th>\n",
       "      <th>QuatK_0</th>\n",
       "      <th>QuatSum_0</th>\n",
       "      <th>QuatI_1</th>\n",
       "      <th>QuatJ_1</th>\n",
       "      <th>QuatK_1</th>\n",
       "      <th>QuatSum_1</th>\n",
       "      <th>QuatI_2</th>\n",
       "      <th>...</th>\n",
       "      <th>QuatSum_3</th>\n",
       "      <th>QuatI_4</th>\n",
       "      <th>QuatJ_4</th>\n",
       "      <th>QuatK_4</th>\n",
       "      <th>QuatSum_4</th>\n",
       "      <th>QuatI_5</th>\n",
       "      <th>QuatJ_5</th>\n",
       "      <th>QuatK_5</th>\n",
       "      <th>QuatSum_5</th>\n",
       "      <th>Activity</th>\n",
       "    </tr>\n",
       "  </thead>\n",
       "  <tbody>\n",
       "    <tr>\n",
       "      <th>0</th>\n",
       "      <td>0.000</td>\n",
       "      <td>-0.003491</td>\n",
       "      <td>-0.003491</td>\n",
       "      <td>0.003491</td>\n",
       "      <td>0.003491</td>\n",
       "      <td>-0.678095</td>\n",
       "      <td>-0.286634</td>\n",
       "      <td>0.534721</td>\n",
       "      <td>-0.367253</td>\n",
       "      <td>-0.786117</td>\n",
       "      <td>...</td>\n",
       "      <td>-0.633683</td>\n",
       "      <td>0.671447</td>\n",
       "      <td>-0.498701</td>\n",
       "      <td>0.605328</td>\n",
       "      <td>0.461958</td>\n",
       "      <td>0.396889</td>\n",
       "      <td>-0.516921</td>\n",
       "      <td>0.311161</td>\n",
       "      <td>-0.719589</td>\n",
       "      <td>0</td>\n",
       "    </tr>\n",
       "    <tr>\n",
       "      <th>1</th>\n",
       "      <td>0.034</td>\n",
       "      <td>-0.003491</td>\n",
       "      <td>-0.003491</td>\n",
       "      <td>0.003491</td>\n",
       "      <td>0.003491</td>\n",
       "      <td>-0.677871</td>\n",
       "      <td>-0.287319</td>\n",
       "      <td>0.533542</td>\n",
       "      <td>-0.367686</td>\n",
       "      <td>-0.785497</td>\n",
       "      <td>...</td>\n",
       "      <td>-0.634389</td>\n",
       "      <td>0.671447</td>\n",
       "      <td>-0.498701</td>\n",
       "      <td>0.605328</td>\n",
       "      <td>0.461958</td>\n",
       "      <td>0.396889</td>\n",
       "      <td>-0.516921</td>\n",
       "      <td>0.311161</td>\n",
       "      <td>-0.719589</td>\n",
       "      <td>0</td>\n",
       "    </tr>\n",
       "    <tr>\n",
       "      <th>2</th>\n",
       "      <td>0.068</td>\n",
       "      <td>-0.003491</td>\n",
       "      <td>-0.003491</td>\n",
       "      <td>0.003491</td>\n",
       "      <td>0.003491</td>\n",
       "      <td>-0.677793</td>\n",
       "      <td>-0.287251</td>\n",
       "      <td>0.533661</td>\n",
       "      <td>-0.367774</td>\n",
       "      <td>-0.785625</td>\n",
       "      <td>...</td>\n",
       "      <td>-0.634468</td>\n",
       "      <td>0.671447</td>\n",
       "      <td>-0.498701</td>\n",
       "      <td>0.605328</td>\n",
       "      <td>0.461958</td>\n",
       "      <td>0.396743</td>\n",
       "      <td>-0.516374</td>\n",
       "      <td>0.311942</td>\n",
       "      <td>-0.719567</td>\n",
       "      <td>0</td>\n",
       "    </tr>\n",
       "    <tr>\n",
       "      <th>3</th>\n",
       "      <td>0.100</td>\n",
       "      <td>-0.003491</td>\n",
       "      <td>-0.003491</td>\n",
       "      <td>0.003491</td>\n",
       "      <td>0.003491</td>\n",
       "      <td>-0.678159</td>\n",
       "      <td>-0.286250</td>\n",
       "      <td>0.535469</td>\n",
       "      <td>-0.366990</td>\n",
       "      <td>-0.786177</td>\n",
       "      <td>...</td>\n",
       "      <td>-0.633930</td>\n",
       "      <td>0.671447</td>\n",
       "      <td>-0.498701</td>\n",
       "      <td>0.605328</td>\n",
       "      <td>0.461958</td>\n",
       "      <td>0.396050</td>\n",
       "      <td>-0.515700</td>\n",
       "      <td>0.313182</td>\n",
       "      <td>-0.719220</td>\n",
       "      <td>0</td>\n",
       "    </tr>\n",
       "    <tr>\n",
       "      <th>4</th>\n",
       "      <td>0.141</td>\n",
       "      <td>-0.003491</td>\n",
       "      <td>-0.003491</td>\n",
       "      <td>0.003491</td>\n",
       "      <td>0.003491</td>\n",
       "      <td>-0.679134</td>\n",
       "      <td>-0.284903</td>\n",
       "      <td>0.537862</td>\n",
       "      <td>-0.365332</td>\n",
       "      <td>-0.787511</td>\n",
       "      <td>...</td>\n",
       "      <td>-0.632451</td>\n",
       "      <td>0.671447</td>\n",
       "      <td>-0.498701</td>\n",
       "      <td>0.605328</td>\n",
       "      <td>0.461958</td>\n",
       "      <td>0.395392</td>\n",
       "      <td>-0.515516</td>\n",
       "      <td>0.313776</td>\n",
       "      <td>-0.718833</td>\n",
       "      <td>0</td>\n",
       "    </tr>\n",
       "  </tbody>\n",
       "</table>\n",
       "<p>5 rows × 26 columns</p>\n",
       "</div>"
      ],
      "text/plain": [
       "   Timestamp   QuatI_0   QuatJ_0   QuatK_0  QuatSum_0   QuatI_1   QuatJ_1  \\\n",
       "0      0.000 -0.003491 -0.003491  0.003491   0.003491 -0.678095 -0.286634   \n",
       "1      0.034 -0.003491 -0.003491  0.003491   0.003491 -0.677871 -0.287319   \n",
       "2      0.068 -0.003491 -0.003491  0.003491   0.003491 -0.677793 -0.287251   \n",
       "3      0.100 -0.003491 -0.003491  0.003491   0.003491 -0.678159 -0.286250   \n",
       "4      0.141 -0.003491 -0.003491  0.003491   0.003491 -0.679134 -0.284903   \n",
       "\n",
       "    QuatK_1  QuatSum_1   QuatI_2  ...  QuatSum_3   QuatI_4   QuatJ_4  \\\n",
       "0  0.534721  -0.367253 -0.786117  ...  -0.633683  0.671447 -0.498701   \n",
       "1  0.533542  -0.367686 -0.785497  ...  -0.634389  0.671447 -0.498701   \n",
       "2  0.533661  -0.367774 -0.785625  ...  -0.634468  0.671447 -0.498701   \n",
       "3  0.535469  -0.366990 -0.786177  ...  -0.633930  0.671447 -0.498701   \n",
       "4  0.537862  -0.365332 -0.787511  ...  -0.632451  0.671447 -0.498701   \n",
       "\n",
       "    QuatK_4  QuatSum_4   QuatI_5   QuatJ_5   QuatK_5  QuatSum_5  Activity  \n",
       "0  0.605328   0.461958  0.396889 -0.516921  0.311161  -0.719589         0  \n",
       "1  0.605328   0.461958  0.396889 -0.516921  0.311161  -0.719589         0  \n",
       "2  0.605328   0.461958  0.396743 -0.516374  0.311942  -0.719567         0  \n",
       "3  0.605328   0.461958  0.396050 -0.515700  0.313182  -0.719220         0  \n",
       "4  0.605328   0.461958  0.395392 -0.515516  0.313776  -0.718833         0  \n",
       "\n",
       "[5 rows x 26 columns]"
      ]
     },
     "execution_count": 7,
     "metadata": {},
     "output_type": "execute_result"
    }
   ],
   "source": [
    "df.head()"
   ]
  },
  {
   "cell_type": "code",
   "execution_count": 30,
   "id": "2e62ff8d-4eb0-452f-ba73-0de3dfaf15e7",
   "metadata": {},
   "outputs": [],
   "source": [
    "X_train, X_test, y_train, y_test = train_test_split(X, y, test_size=0.2, train_size=0.8, random_state=7,)"
   ]
  },
  {
   "cell_type": "code",
   "execution_count": 8,
   "id": "0081c0ec-96ba-4cc1-8f68-8827b525ba28",
   "metadata": {},
   "outputs": [
    {
     "name": "stdout",
     "output_type": "stream",
     "text": [
      "participant_01.csv\n"
     ]
    }
   ],
   "source": [
    "testfile = pd.read_csv((os.path.join(annotated_dir, os.listdir(annotated_dir)[test_participant-1])))\n",
    "print(os.listdir(annotated_dir)[test_participant-1])"
   ]
  },
  {
   "cell_type": "code",
   "execution_count": 9,
   "id": "4ec5ee55-9c12-436f-aa76-f30de88caeb7",
   "metadata": {},
   "outputs": [],
   "source": [
    "testfile, label_encoder = load_imu_data(testfile)\n",
    "X_test, y_test = create_sequences(testfile, sequence_length = SLIDING_WINDOW_LENGTH)"
   ]
  },
  {
   "cell_type": "code",
   "execution_count": 14,
   "id": "6391a4bd-ecc0-439f-86a3-f5097488034d",
   "metadata": {},
   "outputs": [
    {
     "data": {
      "text/plain": [
       "(array([[[-0.81897315, -1.27038221,  1.39365119, ..., -1.25421721,\n",
       "           1.22929246,  1.14323443],\n",
       "         [-0.81883853, -1.27037769,  1.39364739, ..., -0.54111496,\n",
       "          -0.18251342, -1.00373198],\n",
       "         [-0.81883853, -1.27037769,  1.39364739, ..., -0.54111496,\n",
       "          -0.18251342, -1.00373198],\n",
       "         ...,\n",
       "         [-0.81466552, -1.26976277,  1.39371036, ..., -0.5413673 ,\n",
       "          -0.18451768, -1.00242125],\n",
       "         [-0.81466552, -1.26976277,  1.39371036, ..., -1.25013594,\n",
       "           1.23477092,  1.14232123],\n",
       "         [-0.81466552, -1.26976277,  1.39371036, ..., -0.5413673 ,\n",
       "          -0.18451768, -1.00242125]],\n",
       " \n",
       "        [[-0.81883853, -1.27037769,  1.39364739, ..., -0.54111496,\n",
       "          -0.18251342, -1.00373198],\n",
       "         [-0.81883853, -1.27037769,  1.39364739, ..., -0.54111496,\n",
       "          -0.18251342, -1.00373198],\n",
       "         [-0.81870392, -1.27037315,  1.39364359, ...,  1.65219237,\n",
       "          -0.4993069 , -0.83074252],\n",
       "         ...,\n",
       "         [-0.81466552, -1.26976277,  1.39371036, ..., -1.25013594,\n",
       "           1.23477092,  1.14232123],\n",
       "         [-0.81466552, -1.26976277,  1.39371036, ..., -0.5413673 ,\n",
       "          -0.18451768, -1.00242125],\n",
       "         [-0.81493475, -1.26977236,  1.39371841, ..., -1.25041437,\n",
       "           1.23460714,  1.14208959]],\n",
       " \n",
       "        [[-0.81883853, -1.27037769,  1.39364739, ..., -0.54111496,\n",
       "          -0.18251342, -1.00373198],\n",
       "         [-0.81870392, -1.27037315,  1.39364359, ...,  1.65219237,\n",
       "          -0.4993069 , -0.83074252],\n",
       "         [-0.81830008, -1.27018548,  1.39377568, ..., -0.54115734,\n",
       "          -0.18261428, -1.00376723],\n",
       "         ...,\n",
       "         [-0.81466552, -1.26976277,  1.39371036, ..., -0.5413673 ,\n",
       "          -0.18451768, -1.00242125],\n",
       "         [-0.81493475, -1.26977236,  1.39371841, ..., -1.25041437,\n",
       "           1.23460714,  1.14208959],\n",
       "         [-0.81560781, -1.26997018,  1.39359484, ..., -0.54227182,\n",
       "          -0.18480578, -1.00139965]],\n",
       " \n",
       "        [[-0.81870392, -1.27037315,  1.39364359, ...,  1.65219237,\n",
       "          -0.4993069 , -0.83074252],\n",
       "         [-0.81830008, -1.27018548,  1.39377568, ..., -0.54115734,\n",
       "          -0.18261428, -1.00376723],\n",
       "         [-0.81830008, -1.27018548,  1.39377568, ..., -0.54115734,\n",
       "          -0.18261428, -1.00376723],\n",
       "         ...,\n",
       "         [-0.81493475, -1.26977236,  1.39371841, ..., -1.25041437,\n",
       "           1.23460714,  1.14208959],\n",
       "         [-0.81560781, -1.26997018,  1.39359484, ..., -0.54227182,\n",
       "          -0.18480578, -1.00139965],\n",
       "         [-0.81601165, -1.27013389,  1.39344262, ..., -1.25169364,\n",
       "           1.23354495,  1.14115206]],\n",
       " \n",
       "        [[-0.81830008, -1.27018548,  1.39377568, ..., -0.54115734,\n",
       "          -0.18261428, -1.00376723],\n",
       "         [-0.81830008, -1.27018548,  1.39377568, ..., -0.54115734,\n",
       "          -0.18261428, -1.00376723],\n",
       "         [-0.81830008, -1.27018548,  1.39377568, ..., -0.54115734,\n",
       "          -0.18261428, -1.00376723],\n",
       "         ...,\n",
       "         [-0.81560781, -1.26997018,  1.39359484, ..., -0.54227182,\n",
       "          -0.18480578, -1.00139965],\n",
       "         [-0.81601165, -1.27013389,  1.39344262, ..., -1.25169364,\n",
       "           1.23354495,  1.14115206],\n",
       "         [-0.81641549, -1.27047139,  1.39314665, ..., -0.54268143,\n",
       "          -0.18484922, -1.00085337]]]),\n",
       " array([0, 0, 0, 0, 0]))"
      ]
     },
     "execution_count": 14,
     "metadata": {},
     "output_type": "execute_result"
    }
   ],
   "source": [
    "X_test[:5], y_test[:5]"
   ]
  },
  {
   "cell_type": "markdown",
   "id": "05a3a7e6-c0b3-4885-8cb4-4864fa3801f0",
   "metadata": {},
   "source": [
    "# **Modelling the architecture of the network**"
   ]
  },
  {
   "cell_type": "code",
   "execution_count": 31,
   "id": "db600e4c-9cee-4031-85df-959bc822722f",
   "metadata": {},
   "outputs": [],
   "source": [
    "model1 = models.Sequential()"
   ]
  },
  {
   "cell_type": "code",
   "execution_count": 32,
   "id": "964f2329-23e2-42a8-b4fa-e9609a2f807e",
   "metadata": {},
   "outputs": [],
   "source": [
    "# Input Layer\n",
    "model1.add(layers.Input(shape=(SLIDING_WINDOW_LENGTH, NB_SENSOR_CHANNELS, 1)))  # (Batch, Time, Features, Channels)\n",
    "\n",
    "# Convolutional Layers (Deep CNN Feature Extraction)\n",
    "model1.add(layers.Conv2D(NUM_FILTERS, (FILTER_SIZE, 1), activation='relu'))\n",
    "model1.add(layers.Conv2D(NUM_FILTERS, (FILTER_SIZE, 1), activation='relu'))\n",
    "model1.add(layers.Conv2D(NUM_FILTERS, (FILTER_SIZE, 1), activation='relu'))\n",
    "model1.add(layers.Conv2D(NUM_FILTERS, (FILTER_SIZE, 1), activation='relu'))\n",
    "\n",
    "# Reshape for LSTM input (Time, Features)\n",
    "model1.add(layers.Reshape((-1, NUM_FILTERS)))  # Removing channel dimension\n",
    "\n",
    "# LSTM Layers (Shallow LSTMs for Temporal Processing)\n",
    "model1.add(layers.LSTM(NUM_UNITS_LSTM, return_sequences=True))\n",
    "model1.add(layers.LSTM(NUM_UNITS_LSTM, return_sequences=False))  # Last LSTM outputs final sequence\n",
    "\n",
    "# Dense Layer for classification\n",
    "model1.add(layers.Dense(NUM_CLASSES, activation='softmax'))  # Probability distribution over classes"
   ]
  },
  {
   "cell_type": "code",
   "execution_count": 33,
   "id": "e62971b0-acf6-4d96-a4ad-79a9380c351a",
   "metadata": {},
   "outputs": [
    {
     "data": {
      "text/html": [
       "<pre style=\"white-space:pre;overflow-x:auto;line-height:normal;font-family:Menlo,'DejaVu Sans Mono',consolas,'Courier New',monospace\"><span style=\"font-weight: bold\">Model: \"sequential_2\"</span>\n",
       "</pre>\n"
      ],
      "text/plain": [
       "\u001b[1mModel: \"sequential_2\"\u001b[0m\n"
      ]
     },
     "metadata": {},
     "output_type": "display_data"
    },
    {
     "data": {
      "text/html": [
       "<pre style=\"white-space:pre;overflow-x:auto;line-height:normal;font-family:Menlo,'DejaVu Sans Mono',consolas,'Courier New',monospace\">┏━━━━━━━━━━━━━━━━━━━━━━━━━━━━━━━━━━━━━━┳━━━━━━━━━━━━━━━━━━━━━━━━━━━━━┳━━━━━━━━━━━━━━━━━┓\n",
       "┃<span style=\"font-weight: bold\"> Layer (type)                         </span>┃<span style=\"font-weight: bold\"> Output Shape                </span>┃<span style=\"font-weight: bold\">         Param # </span>┃\n",
       "┡━━━━━━━━━━━━━━━━━━━━━━━━━━━━━━━━━━━━━━╇━━━━━━━━━━━━━━━━━━━━━━━━━━━━━╇━━━━━━━━━━━━━━━━━┩\n",
       "│ conv2d_8 (<span style=\"color: #0087ff; text-decoration-color: #0087ff\">Conv2D</span>)                    │ (<span style=\"color: #00d7ff; text-decoration-color: #00d7ff\">None</span>, <span style=\"color: #00af00; text-decoration-color: #00af00\">28</span>, <span style=\"color: #00af00; text-decoration-color: #00af00\">24</span>, <span style=\"color: #00af00; text-decoration-color: #00af00\">128</span>)         │             <span style=\"color: #00af00; text-decoration-color: #00af00\">768</span> │\n",
       "├──────────────────────────────────────┼─────────────────────────────┼─────────────────┤\n",
       "│ conv2d_9 (<span style=\"color: #0087ff; text-decoration-color: #0087ff\">Conv2D</span>)                    │ (<span style=\"color: #00d7ff; text-decoration-color: #00d7ff\">None</span>, <span style=\"color: #00af00; text-decoration-color: #00af00\">24</span>, <span style=\"color: #00af00; text-decoration-color: #00af00\">24</span>, <span style=\"color: #00af00; text-decoration-color: #00af00\">128</span>)         │          <span style=\"color: #00af00; text-decoration-color: #00af00\">82,048</span> │\n",
       "├──────────────────────────────────────┼─────────────────────────────┼─────────────────┤\n",
       "│ conv2d_10 (<span style=\"color: #0087ff; text-decoration-color: #0087ff\">Conv2D</span>)                   │ (<span style=\"color: #00d7ff; text-decoration-color: #00d7ff\">None</span>, <span style=\"color: #00af00; text-decoration-color: #00af00\">20</span>, <span style=\"color: #00af00; text-decoration-color: #00af00\">24</span>, <span style=\"color: #00af00; text-decoration-color: #00af00\">128</span>)         │          <span style=\"color: #00af00; text-decoration-color: #00af00\">82,048</span> │\n",
       "├──────────────────────────────────────┼─────────────────────────────┼─────────────────┤\n",
       "│ conv2d_11 (<span style=\"color: #0087ff; text-decoration-color: #0087ff\">Conv2D</span>)                   │ (<span style=\"color: #00d7ff; text-decoration-color: #00d7ff\">None</span>, <span style=\"color: #00af00; text-decoration-color: #00af00\">16</span>, <span style=\"color: #00af00; text-decoration-color: #00af00\">24</span>, <span style=\"color: #00af00; text-decoration-color: #00af00\">128</span>)         │          <span style=\"color: #00af00; text-decoration-color: #00af00\">82,048</span> │\n",
       "├──────────────────────────────────────┼─────────────────────────────┼─────────────────┤\n",
       "│ reshape_2 (<span style=\"color: #0087ff; text-decoration-color: #0087ff\">Reshape</span>)                  │ (<span style=\"color: #00d7ff; text-decoration-color: #00d7ff\">None</span>, <span style=\"color: #00af00; text-decoration-color: #00af00\">384</span>, <span style=\"color: #00af00; text-decoration-color: #00af00\">128</span>)            │               <span style=\"color: #00af00; text-decoration-color: #00af00\">0</span> │\n",
       "├──────────────────────────────────────┼─────────────────────────────┼─────────────────┤\n",
       "│ lstm_4 (<span style=\"color: #0087ff; text-decoration-color: #0087ff\">LSTM</span>)                        │ (<span style=\"color: #00d7ff; text-decoration-color: #00d7ff\">None</span>, <span style=\"color: #00af00; text-decoration-color: #00af00\">384</span>, <span style=\"color: #00af00; text-decoration-color: #00af00\">128</span>)            │         <span style=\"color: #00af00; text-decoration-color: #00af00\">131,584</span> │\n",
       "├──────────────────────────────────────┼─────────────────────────────┼─────────────────┤\n",
       "│ lstm_5 (<span style=\"color: #0087ff; text-decoration-color: #0087ff\">LSTM</span>)                        │ (<span style=\"color: #00d7ff; text-decoration-color: #00d7ff\">None</span>, <span style=\"color: #00af00; text-decoration-color: #00af00\">128</span>)                 │         <span style=\"color: #00af00; text-decoration-color: #00af00\">131,584</span> │\n",
       "├──────────────────────────────────────┼─────────────────────────────┼─────────────────┤\n",
       "│ dense_2 (<span style=\"color: #0087ff; text-decoration-color: #0087ff\">Dense</span>)                      │ (<span style=\"color: #00d7ff; text-decoration-color: #00d7ff\">None</span>, <span style=\"color: #00af00; text-decoration-color: #00af00\">11</span>)                  │           <span style=\"color: #00af00; text-decoration-color: #00af00\">1,419</span> │\n",
       "└──────────────────────────────────────┴─────────────────────────────┴─────────────────┘\n",
       "</pre>\n"
      ],
      "text/plain": [
       "┏━━━━━━━━━━━━━━━━━━━━━━━━━━━━━━━━━━━━━━┳━━━━━━━━━━━━━━━━━━━━━━━━━━━━━┳━━━━━━━━━━━━━━━━━┓\n",
       "┃\u001b[1m \u001b[0m\u001b[1mLayer (type)                        \u001b[0m\u001b[1m \u001b[0m┃\u001b[1m \u001b[0m\u001b[1mOutput Shape               \u001b[0m\u001b[1m \u001b[0m┃\u001b[1m \u001b[0m\u001b[1m        Param #\u001b[0m\u001b[1m \u001b[0m┃\n",
       "┡━━━━━━━━━━━━━━━━━━━━━━━━━━━━━━━━━━━━━━╇━━━━━━━━━━━━━━━━━━━━━━━━━━━━━╇━━━━━━━━━━━━━━━━━┩\n",
       "│ conv2d_8 (\u001b[38;5;33mConv2D\u001b[0m)                    │ (\u001b[38;5;45mNone\u001b[0m, \u001b[38;5;34m28\u001b[0m, \u001b[38;5;34m24\u001b[0m, \u001b[38;5;34m128\u001b[0m)         │             \u001b[38;5;34m768\u001b[0m │\n",
       "├──────────────────────────────────────┼─────────────────────────────┼─────────────────┤\n",
       "│ conv2d_9 (\u001b[38;5;33mConv2D\u001b[0m)                    │ (\u001b[38;5;45mNone\u001b[0m, \u001b[38;5;34m24\u001b[0m, \u001b[38;5;34m24\u001b[0m, \u001b[38;5;34m128\u001b[0m)         │          \u001b[38;5;34m82,048\u001b[0m │\n",
       "├──────────────────────────────────────┼─────────────────────────────┼─────────────────┤\n",
       "│ conv2d_10 (\u001b[38;5;33mConv2D\u001b[0m)                   │ (\u001b[38;5;45mNone\u001b[0m, \u001b[38;5;34m20\u001b[0m, \u001b[38;5;34m24\u001b[0m, \u001b[38;5;34m128\u001b[0m)         │          \u001b[38;5;34m82,048\u001b[0m │\n",
       "├──────────────────────────────────────┼─────────────────────────────┼─────────────────┤\n",
       "│ conv2d_11 (\u001b[38;5;33mConv2D\u001b[0m)                   │ (\u001b[38;5;45mNone\u001b[0m, \u001b[38;5;34m16\u001b[0m, \u001b[38;5;34m24\u001b[0m, \u001b[38;5;34m128\u001b[0m)         │          \u001b[38;5;34m82,048\u001b[0m │\n",
       "├──────────────────────────────────────┼─────────────────────────────┼─────────────────┤\n",
       "│ reshape_2 (\u001b[38;5;33mReshape\u001b[0m)                  │ (\u001b[38;5;45mNone\u001b[0m, \u001b[38;5;34m384\u001b[0m, \u001b[38;5;34m128\u001b[0m)            │               \u001b[38;5;34m0\u001b[0m │\n",
       "├──────────────────────────────────────┼─────────────────────────────┼─────────────────┤\n",
       "│ lstm_4 (\u001b[38;5;33mLSTM\u001b[0m)                        │ (\u001b[38;5;45mNone\u001b[0m, \u001b[38;5;34m384\u001b[0m, \u001b[38;5;34m128\u001b[0m)            │         \u001b[38;5;34m131,584\u001b[0m │\n",
       "├──────────────────────────────────────┼─────────────────────────────┼─────────────────┤\n",
       "│ lstm_5 (\u001b[38;5;33mLSTM\u001b[0m)                        │ (\u001b[38;5;45mNone\u001b[0m, \u001b[38;5;34m128\u001b[0m)                 │         \u001b[38;5;34m131,584\u001b[0m │\n",
       "├──────────────────────────────────────┼─────────────────────────────┼─────────────────┤\n",
       "│ dense_2 (\u001b[38;5;33mDense\u001b[0m)                      │ (\u001b[38;5;45mNone\u001b[0m, \u001b[38;5;34m11\u001b[0m)                  │           \u001b[38;5;34m1,419\u001b[0m │\n",
       "└──────────────────────────────────────┴─────────────────────────────┴─────────────────┘\n"
      ]
     },
     "metadata": {},
     "output_type": "display_data"
    },
    {
     "data": {
      "text/html": [
       "<pre style=\"white-space:pre;overflow-x:auto;line-height:normal;font-family:Menlo,'DejaVu Sans Mono',consolas,'Courier New',monospace\"><span style=\"font-weight: bold\"> Total params: </span><span style=\"color: #00af00; text-decoration-color: #00af00\">511,499</span> (1.95 MB)\n",
       "</pre>\n"
      ],
      "text/plain": [
       "\u001b[1m Total params: \u001b[0m\u001b[38;5;34m511,499\u001b[0m (1.95 MB)\n"
      ]
     },
     "metadata": {},
     "output_type": "display_data"
    },
    {
     "data": {
      "text/html": [
       "<pre style=\"white-space:pre;overflow-x:auto;line-height:normal;font-family:Menlo,'DejaVu Sans Mono',consolas,'Courier New',monospace\"><span style=\"font-weight: bold\"> Trainable params: </span><span style=\"color: #00af00; text-decoration-color: #00af00\">511,499</span> (1.95 MB)\n",
       "</pre>\n"
      ],
      "text/plain": [
       "\u001b[1m Trainable params: \u001b[0m\u001b[38;5;34m511,499\u001b[0m (1.95 MB)\n"
      ]
     },
     "metadata": {},
     "output_type": "display_data"
    },
    {
     "data": {
      "text/html": [
       "<pre style=\"white-space:pre;overflow-x:auto;line-height:normal;font-family:Menlo,'DejaVu Sans Mono',consolas,'Courier New',monospace\"><span style=\"font-weight: bold\"> Non-trainable params: </span><span style=\"color: #00af00; text-decoration-color: #00af00\">0</span> (0.00 B)\n",
       "</pre>\n"
      ],
      "text/plain": [
       "\u001b[1m Non-trainable params: \u001b[0m\u001b[38;5;34m0\u001b[0m (0.00 B)\n"
      ]
     },
     "metadata": {},
     "output_type": "display_data"
    }
   ],
   "source": [
    "model1.compile(\n",
    "    optimizer=tf.keras.optimizers.Adam(learning_rate=0.001),\n",
    "    loss=\"sparse_categorical_crossentropy\",\n",
    "    metrics=[\"accuracy\"]\n",
    ")\n",
    "model1.summary()"
   ]
  },
  {
   "cell_type": "markdown",
   "id": "57c45c63-7adb-4c3c-858f-257c4794b260",
   "metadata": {},
   "source": [
    "# **Model Training**"
   ]
  },
  {
   "cell_type": "code",
   "execution_count": 34,
   "id": "797377cd-28c0-4622-9a23-ddc3b7bcb6fa",
   "metadata": {},
   "outputs": [
    {
     "name": "stdout",
     "output_type": "stream",
     "text": [
      "Epoch 1/10\n",
      "\u001b[1m44/44\u001b[0m \u001b[32m━━━━━━━━━━━━━━━━━━━━\u001b[0m\u001b[37m\u001b[0m \u001b[1m51s\u001b[0m 1s/step - accuracy: 0.1411 - loss: 2.3155 - val_accuracy: 0.1579 - val_loss: 2.2647 - learning_rate: 0.0010\n",
      "Epoch 2/10\n",
      "\u001b[1m44/44\u001b[0m \u001b[32m━━━━━━━━━━━━━━━━━━━━\u001b[0m\u001b[37m\u001b[0m \u001b[1m46s\u001b[0m 1s/step - accuracy: 0.1542 - loss: 2.2731 - val_accuracy: 0.1397 - val_loss: 2.2678 - learning_rate: 0.0010\n",
      "Epoch 3/10\n",
      "\u001b[1m44/44\u001b[0m \u001b[32m━━━━━━━━━━━━━━━━━━━━\u001b[0m\u001b[37m\u001b[0m \u001b[1m47s\u001b[0m 1s/step - accuracy: 0.1770 - loss: 2.2434 - val_accuracy: 0.1742 - val_loss: 2.2274 - learning_rate: 0.0010\n",
      "Epoch 4/10\n",
      "\u001b[1m44/44\u001b[0m \u001b[32m━━━━━━━━━━━━━━━━━━━━\u001b[0m\u001b[37m\u001b[0m \u001b[1m47s\u001b[0m 1s/step - accuracy: 0.1905 - loss: 2.2046 - val_accuracy: 0.1615 - val_loss: 2.2155 - learning_rate: 0.0010\n",
      "Epoch 5/10\n",
      "\u001b[1m44/44\u001b[0m \u001b[32m━━━━━━━━━━━━━━━━━━━━\u001b[0m\u001b[37m\u001b[0m \u001b[1m49s\u001b[0m 1s/step - accuracy: 0.1852 - loss: 2.2303 - val_accuracy: 0.1851 - val_loss: 2.2097 - learning_rate: 0.0010\n",
      "Epoch 6/10\n",
      "\u001b[1m44/44\u001b[0m \u001b[32m━━━━━━━━━━━━━━━━━━━━\u001b[0m\u001b[37m\u001b[0m \u001b[1m49s\u001b[0m 1s/step - accuracy: 0.1963 - loss: 2.1837 - val_accuracy: 0.2123 - val_loss: 2.1356 - learning_rate: 0.0010\n",
      "Epoch 7/10\n",
      "\u001b[1m44/44\u001b[0m \u001b[32m━━━━━━━━━━━━━━━━━━━━\u001b[0m\u001b[37m\u001b[0m \u001b[1m51s\u001b[0m 1s/step - accuracy: 0.2257 - loss: 2.1255 - val_accuracy: 0.2142 - val_loss: 2.0978 - learning_rate: 0.0010\n",
      "Epoch 8/10\n",
      "\u001b[1m44/44\u001b[0m \u001b[32m━━━━━━━━━━━━━━━━━━━━\u001b[0m\u001b[37m\u001b[0m \u001b[1m49s\u001b[0m 1s/step - accuracy: 0.2454 - loss: 2.0708 - val_accuracy: 0.2759 - val_loss: 1.9975 - learning_rate: 0.0010\n",
      "Epoch 9/10\n",
      "\u001b[1m44/44\u001b[0m \u001b[32m━━━━━━━━━━━━━━━━━━━━\u001b[0m\u001b[37m\u001b[0m \u001b[1m50s\u001b[0m 1s/step - accuracy: 0.2910 - loss: 1.9869 - val_accuracy: 0.3158 - val_loss: 1.9412 - learning_rate: 0.0010\n",
      "Epoch 10/10\n",
      "\u001b[1m44/44\u001b[0m \u001b[32m━━━━━━━━━━━━━━━━━━━━\u001b[0m\u001b[37m\u001b[0m \u001b[1m49s\u001b[0m 1s/step - accuracy: 0.3330 - loss: 1.8975 - val_accuracy: 0.3521 - val_loss: 1.8273 - learning_rate: 0.0010\n"
     ]
    }
   ],
   "source": [
    "history = model1.fit(\n",
    "    X, y,\n",
    "    batch_size=BATCH_SIZE,\n",
    "    epochs=10,\n",
    "    validation_data=(X_test, y_test),\n",
    "    callbacks=[\n",
    "        tf.keras.callbacks.EarlyStopping(monitor=\"val_loss\", patience=5, restore_best_weights=True),\n",
    "        tf.keras.callbacks.ReduceLROnPlateau(monitor=\"val_loss\", factor=0.5, patience=3)\n",
    "    ]\n",
    ")"
   ]
  },
  {
   "cell_type": "code",
   "execution_count": 35,
   "id": "7c2cb981-d85a-4d5f-9e04-73894ddec940",
   "metadata": {},
   "outputs": [
    {
     "data": {
      "image/png": "[encoded data removed]",
      "text/plain": [
       "<Figure size 1200x400 with 2 Axes>"
      ]
     },
     "metadata": {},
     "output_type": "display_data"
    }
   ],
   "source": [
    "# Plot Accuracy & Loss\n",
    "plt.figure(figsize=(12, 4))\n",
    "\n",
    "plt.subplot(1, 2, 1)\n",
    "plt.plot(history.history[\"accuracy\"], label=\"Train Accuracy\")\n",
    "plt.plot(history.history[\"val_accuracy\"], label=\"Val Accuracy\")\n",
    "plt.legend()\n",
    "plt.title(\"Model Accuracy\")\n",
    "\n",
    "plt.subplot(1, 2, 2)\n",
    "plt.plot(history.history[\"loss\"], label=\"Train Loss\")\n",
    "plt.plot(history.history[\"val_loss\"], label=\"Val Loss\")\n",
    "plt.legend()\n",
    "plt.title(\"Model Loss\")\n",
    "\n",
    "plt.show()"
   ]
  },
  {
   "cell_type": "code",
   "execution_count": 34,
   "id": "d3f10dfd-5bf6-4453-857b-59df3674182f",
   "metadata": {},
   "outputs": [
    {
     "name": "stdout",
     "output_type": "stream",
     "text": [
      "\u001b[1m191/191\u001b[0m \u001b[32m━━━━━━━━━━━━━━━━━━━━\u001b[0m\u001b[37m\u001b[0m \u001b[1m24s\u001b[0m 127ms/step - accuracy: 0.1046 - loss: 4.3983\n",
      "Test Accuracy: 0.1543, Test Loss: 3.2543\n"
     ]
    }
   ],
   "source": [
    "test_loss, test_acc = model1.evaluate(X_test, y_test)\n",
    "print(f\"Test Accuracy: {test_acc:.4f}, Test Loss: {test_loss:.4f}\")"
   ]
  },
  {
   "cell_type": "code",
   "execution_count": 21,
   "id": "fba2b768-2f69-4390-a7b9-5efd46f240ce",
   "metadata": {},
   "outputs": [
    {
     "name": "stderr",
     "output_type": "stream",
     "text": [
      "WARNING:absl:You are saving your model as an HDF5 file via `model.save()` or `keras.saving.save_model(model)`. This file format is considered legacy. We recommend using instead the native Keras format, e.g. `model.save('my_model.keras')` or `keras.saving.save_model(model, 'my_model.keras')`. \n"
     ]
    }
   ],
   "source": [
    "model1.save(\"final_imu_model.h5\")  # Saves the trained model"
   ]
  },
  {
   "cell_type": "code",
   "execution_count": null,
   "id": "32e515db-3ff8-4efa-89a1-ad7f156057b6",
   "metadata": {},
   "outputs": [],
   "source": []
  },
  {
   "cell_type": "code",
   "execution_count": null,
   "id": "d8bd68a2-cd15-4c69-852b-bd0636e74ba2",
   "metadata": {},
   "outputs": [],
   "source": []
  }
 ],
 "metadata": {
  "kernelspec": {
   "display_name": "Python 3 (ipykernel)",
   "language": "python",
   "name": "python3"
  },
  "language_info": {
   "codemirror_mode": {
    "name": "ipython",
    "version": 3
   },
   "file_extension": ".py",
   "mimetype": "text/x-python",
   "name": "python",
   "nbconvert_exporter": "python",
   "pygments_lexer": "ipython3",
   "version": "3.9.20"
  }
 },
 "nbformat": 4,
 "nbformat_minor": 5
}
